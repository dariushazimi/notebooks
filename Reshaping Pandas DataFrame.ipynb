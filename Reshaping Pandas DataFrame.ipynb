{
 "cells": [
  {
   "cell_type": "markdown",
   "metadata": {},
   "source": [
    "### Data Cleaning Examples\n",
    "#### Sample csv data is used for data cleaning and analysis\n",
    "\n",
    "- The data is a randomnly generated data\n",
    "\n",
    "#### Outline\n",
    "    - Load data and check columns\n",
    "    - Rename columns\n",
    "    - Add underscore in all columns\n",
    "    - Replace a character or empty space in column names\n",
    "    - Convert to ppercase/lowercase columns\n",
    "    - Select all columns except one\n",
    "    - Select columns of a particular order or phrase(df.filter)\n",
    "    - Select a group of column name\n",
    "    - User matplotlib to create a world map\n",
    "    - Overlay the data using log and lat on the worldmap\n",
    "    \n",
    "    \n",
    "    \n",
    "    "
   ]
  },
  {
   "cell_type": "markdown",
   "metadata": {},
   "source": [
    "# This is just a sample code\n",
    "## Used geopandas to map the data and overlay with world map.\n",
    "## Partically working but I am out of time for submission.\n",
    "\n"
   ]
  },
  {
   "cell_type": "code",
   "execution_count": 577,
   "metadata": {},
   "outputs": [],
   "source": [
    "# Load Dataset\n",
    "#!pip install geopandas\n",
    "#!pip install descartes\n",
    "\n",
    "import pandas as pd\n",
    "import matplotlib.pyplot as plt\n",
    "%matplotlib inline\n",
    "import geopandas as gpd"
   ]
  },
  {
   "cell_type": "code",
   "execution_count": 578,
   "metadata": {},
   "outputs": [],
   "source": [
    "# Load Dataset\n",
    "df = pd.read_csv(\"rawdata3.csv\")"
   ]
  },
  {
   "cell_type": "code",
   "execution_count": 579,
   "metadata": {},
   "outputs": [
    {
     "data": {
      "text/html": [
       "<div>\n",
       "<style scoped>\n",
       "    .dataframe tbody tr th:only-of-type {\n",
       "        vertical-align: middle;\n",
       "    }\n",
       "\n",
       "    .dataframe tbody tr th {\n",
       "        vertical-align: top;\n",
       "    }\n",
       "\n",
       "    .dataframe thead th {\n",
       "        text-align: right;\n",
       "    }\n",
       "</style>\n",
       "<table border=\"1\" class=\"dataframe\">\n",
       "  <thead>\n",
       "    <tr style=\"text-align: right;\">\n",
       "      <th></th>\n",
       "      <th>First Name</th>\n",
       "      <th>Last Name</th>\n",
       "      <th>Age</th>\n",
       "      <th>Salary</th>\n",
       "      <th>Email</th>\n",
       "      <th>City</th>\n",
       "      <th>Country</th>\n",
       "      <th>Long</th>\n",
       "      <th>Lat</th>\n",
       "      <th>Street Address0</th>\n",
       "      <th>Street Address1</th>\n",
       "    </tr>\n",
       "  </thead>\n",
       "  <tbody>\n",
       "    <tr>\n",
       "      <th>0</th>\n",
       "      <td>Basil</td>\n",
       "      <td>Doris</td>\n",
       "      <td>39</td>\n",
       "      <td>68073.0</td>\n",
       "      <td>bibendum.sed@at.co.uk</td>\n",
       "      <td>High Level</td>\n",
       "      <td>Afghanistan</td>\n",
       "      <td>33.0000</td>\n",
       "      <td>65.0000</td>\n",
       "      <td>P.O. Box 933, 3240 Tincidunt Avenue</td>\n",
       "      <td>8110 Eros Road</td>\n",
       "    </tr>\n",
       "    <tr>\n",
       "      <th>1</th>\n",
       "      <td>Odysseus</td>\n",
       "      <td>Deirdre</td>\n",
       "      <td>60</td>\n",
       "      <td>76432.0</td>\n",
       "      <td>magna.nec@pedemalesuada.ca</td>\n",
       "      <td>Deschambault</td>\n",
       "      <td>Albania</td>\n",
       "      <td>41.1533</td>\n",
       "      <td>20.1683</td>\n",
       "      <td>3475 Consequat, Ave</td>\n",
       "      <td>P.O. Box 545, 5304 Curabitur St.</td>\n",
       "    </tr>\n",
       "    <tr>\n",
       "      <th>2</th>\n",
       "      <td>Jesse</td>\n",
       "      <td>Amanda</td>\n",
       "      <td>45</td>\n",
       "      <td>57757.0</td>\n",
       "      <td>Quisque.imperdiet.erat@ullamcorpereueuismod.ca</td>\n",
       "      <td>Machilipatnam</td>\n",
       "      <td>Algeria</td>\n",
       "      <td>28.0339</td>\n",
       "      <td>1.6596</td>\n",
       "      <td>149-7178 Auctor St.</td>\n",
       "      <td>Ap #758-5240 Elementum Av.</td>\n",
       "    </tr>\n",
       "    <tr>\n",
       "      <th>3</th>\n",
       "      <td>Kareem</td>\n",
       "      <td>Charlotte</td>\n",
       "      <td>69</td>\n",
       "      <td>54158.0</td>\n",
       "      <td>scelerisque@dolorFuscemi.com</td>\n",
       "      <td>Snellegem</td>\n",
       "      <td>Andorra</td>\n",
       "      <td>42.5063</td>\n",
       "      <td>1.5218</td>\n",
       "      <td>Ap #427-5875 Aliquet. Av.</td>\n",
       "      <td>5201 Diam Rd.</td>\n",
       "    </tr>\n",
       "    <tr>\n",
       "      <th>4</th>\n",
       "      <td>Mannix</td>\n",
       "      <td>Isadora</td>\n",
       "      <td>6</td>\n",
       "      <td>56973.0</td>\n",
       "      <td>velit@liberoestcongue.edu</td>\n",
       "      <td>Goes</td>\n",
       "      <td>Angola</td>\n",
       "      <td>-11.2027</td>\n",
       "      <td>17.8739</td>\n",
       "      <td>Ap #426-9992 Dictum Road</td>\n",
       "      <td>581-1742 Nec Rd.</td>\n",
       "    </tr>\n",
       "  </tbody>\n",
       "</table>\n",
       "</div>"
      ],
      "text/plain": [
       "  First Name  Last Name  Age   Salary  \\\n",
       "0      Basil      Doris   39  68073.0   \n",
       "1   Odysseus    Deirdre   60  76432.0   \n",
       "2      Jesse     Amanda   45  57757.0   \n",
       "3     Kareem  Charlotte   69  54158.0   \n",
       "4     Mannix    Isadora    6  56973.0   \n",
       "\n",
       "                                            Email           City      Country  \\\n",
       "0                           bibendum.sed@at.co.uk     High Level  Afghanistan   \n",
       "1                      magna.nec@pedemalesuada.ca   Deschambault      Albania   \n",
       "2  Quisque.imperdiet.erat@ullamcorpereueuismod.ca  Machilipatnam      Algeria   \n",
       "3                    scelerisque@dolorFuscemi.com      Snellegem      Andorra   \n",
       "4                       velit@liberoestcongue.edu           Goes       Angola   \n",
       "\n",
       "      Long      Lat                      Street Address0  \\\n",
       "0  33.0000  65.0000  P.O. Box 933, 3240 Tincidunt Avenue   \n",
       "1  41.1533  20.1683                  3475 Consequat, Ave   \n",
       "2  28.0339   1.6596                  149-7178 Auctor St.   \n",
       "3  42.5063   1.5218            Ap #427-5875 Aliquet. Av.   \n",
       "4 -11.2027  17.8739             Ap #426-9992 Dictum Road   \n",
       "\n",
       "                    Street Address1  \n",
       "0                    8110 Eros Road  \n",
       "1  P.O. Box 545, 5304 Curabitur St.  \n",
       "2        Ap #758-5240 Elementum Av.  \n",
       "3                     5201 Diam Rd.  \n",
       "4                  581-1742 Nec Rd.  "
      ]
     },
     "execution_count": 579,
     "metadata": {},
     "output_type": "execute_result"
    }
   ],
   "source": [
    "# Firt Rows\n",
    "df.head()"
   ]
  },
  {
   "cell_type": "markdown",
   "metadata": {},
   "source": [
    "# List columns"
   ]
  },
  {
   "cell_type": "code",
   "execution_count": 580,
   "metadata": {},
   "outputs": [
    {
     "data": {
      "text/plain": [
       "Index(['First Name', 'Last Name', 'Age', 'Salary', 'Email', 'City', 'Country',\n",
       "       'Long', 'Lat', 'Street Address0', 'Street Address1'],\n",
       "      dtype='object')"
      ]
     },
     "execution_count": 580,
     "metadata": {},
     "output_type": "execute_result"
    }
   ],
   "source": [
    "# get a list of all Columns within the dataset\n",
    "df.columns"
   ]
  },
  {
   "cell_type": "code",
   "execution_count": 581,
   "metadata": {},
   "outputs": [],
   "source": [
    "## Features of Columns\n",
    "# We use the dir() inbuilt function in Python3, which returns list of the attributes and methods of any object, in this case column\n",
    "#dir(df.columns)"
   ]
  },
  {
   "cell_type": "code",
   "execution_count": 582,
   "metadata": {},
   "outputs": [
    {
     "data": {
      "text/plain": [
       "array(['First Name', 'Last Name', 'Age', 'Salary', 'Email', 'City',\n",
       "       'Country', 'Long', 'Lat', 'Street Address0', 'Street Address1'],\n",
       "      dtype=object)"
      ]
     },
     "execution_count": 582,
     "metadata": {},
     "output_type": "execute_result"
    }
   ],
   "source": [
    "# Get a an array of the columns\n",
    "df.columns.values"
   ]
  },
  {
   "cell_type": "code",
   "execution_count": 583,
   "metadata": {},
   "outputs": [
    {
     "data": {
      "text/plain": [
       "['First Name',\n",
       " 'Last Name',\n",
       " 'Age',\n",
       " 'Salary',\n",
       " 'Email',\n",
       " 'City',\n",
       " 'Country',\n",
       " 'Long',\n",
       " 'Lat',\n",
       " 'Street Address0',\n",
       " 'Street Address1']"
      ]
     },
     "execution_count": 583,
     "metadata": {},
     "output_type": "execute_result"
    }
   ],
   "source": [
    "# Get The Columns As a List\n",
    "df.columns.tolist()"
   ]
  },
  {
   "cell_type": "code",
   "execution_count": 584,
   "metadata": {},
   "outputs": [
    {
     "data": {
      "text/plain": [
       "Index(['First Name', 'Last Name', 'Age', 'Salary', 'Email', 'City', 'Country',\n",
       "       'Long', 'Lat', 'Street Address0', 'Street Address1'],\n",
       "      dtype='object')"
      ]
     },
     "execution_count": 584,
     "metadata": {},
     "output_type": "execute_result"
    }
   ],
   "source": [
    "### To View Columns Names\n",
    "df.columns.view()"
   ]
  },
  {
   "cell_type": "code",
   "execution_count": 585,
   "metadata": {},
   "outputs": [
    {
     "data": {
      "text/plain": [
       "First Name              First Name\n",
       "Last Name                Last Name\n",
       "Age                            Age\n",
       "Salary                      Salary\n",
       "Email                        Email\n",
       "City                          City\n",
       "Country                    Country\n",
       "Long                          Long\n",
       "Lat                            Lat\n",
       "Street Address0    Street Address0\n",
       "Street Address1    Street Address1\n",
       "dtype: object"
      ]
     },
     "execution_count": 585,
     "metadata": {},
     "output_type": "execute_result"
    }
   ],
   "source": [
    "# Convert the Column Names To Series/ DataFrame\n",
    "df.columns.to_series()"
   ]
  },
  {
   "cell_type": "markdown",
   "metadata": {},
   "source": [
    "# Convert the Column Names To DataFrame"
   ]
  },
  {
   "cell_type": "code",
   "execution_count": 586,
   "metadata": {},
   "outputs": [
    {
     "data": {
      "text/html": [
       "<div>\n",
       "<style scoped>\n",
       "    .dataframe tbody tr th:only-of-type {\n",
       "        vertical-align: middle;\n",
       "    }\n",
       "\n",
       "    .dataframe tbody tr th {\n",
       "        vertical-align: top;\n",
       "    }\n",
       "\n",
       "    .dataframe thead th {\n",
       "        text-align: right;\n",
       "    }\n",
       "</style>\n",
       "<table border=\"1\" class=\"dataframe\">\n",
       "  <thead>\n",
       "    <tr style=\"text-align: right;\">\n",
       "      <th></th>\n",
       "      <th>0</th>\n",
       "    </tr>\n",
       "  </thead>\n",
       "  <tbody>\n",
       "    <tr>\n",
       "      <th>First Name</th>\n",
       "      <td>First Name</td>\n",
       "    </tr>\n",
       "    <tr>\n",
       "      <th>Last Name</th>\n",
       "      <td>Last Name</td>\n",
       "    </tr>\n",
       "    <tr>\n",
       "      <th>Age</th>\n",
       "      <td>Age</td>\n",
       "    </tr>\n",
       "    <tr>\n",
       "      <th>Salary</th>\n",
       "      <td>Salary</td>\n",
       "    </tr>\n",
       "    <tr>\n",
       "      <th>Email</th>\n",
       "      <td>Email</td>\n",
       "    </tr>\n",
       "    <tr>\n",
       "      <th>City</th>\n",
       "      <td>City</td>\n",
       "    </tr>\n",
       "    <tr>\n",
       "      <th>Country</th>\n",
       "      <td>Country</td>\n",
       "    </tr>\n",
       "    <tr>\n",
       "      <th>Long</th>\n",
       "      <td>Long</td>\n",
       "    </tr>\n",
       "    <tr>\n",
       "      <th>Lat</th>\n",
       "      <td>Lat</td>\n",
       "    </tr>\n",
       "    <tr>\n",
       "      <th>Street Address0</th>\n",
       "      <td>Street Address0</td>\n",
       "    </tr>\n",
       "    <tr>\n",
       "      <th>Street Address1</th>\n",
       "      <td>Street Address1</td>\n",
       "    </tr>\n",
       "  </tbody>\n",
       "</table>\n",
       "</div>"
      ],
      "text/plain": [
       "                               0\n",
       "First Name            First Name\n",
       "Last Name              Last Name\n",
       "Age                          Age\n",
       "Salary                    Salary\n",
       "Email                      Email\n",
       "City                        City\n",
       "Country                  Country\n",
       "Long                        Long\n",
       "Lat                          Lat\n",
       "Street Address0  Street Address0\n",
       "Street Address1  Street Address1"
      ]
     },
     "execution_count": 586,
     "metadata": {},
     "output_type": "execute_result"
    }
   ],
   "source": [
    "# Convert the Column Names To DataFrame\n",
    "df.columns.to_frame()"
   ]
  },
  {
   "cell_type": "code",
   "execution_count": 587,
   "metadata": {},
   "outputs": [
    {
     "data": {
      "text/plain": [
       "array([False,  True, False, False, False, False, False, False, False,\n",
       "       False, False])"
      ]
     },
     "execution_count": 587,
     "metadata": {},
     "output_type": "execute_result"
    }
   ],
   "source": [
    "# Check to see if column names contains a phrase\n",
    "df.columns.str.contains('Last Name')"
   ]
  },
  {
   "cell_type": "code",
   "execution_count": 588,
   "metadata": {},
   "outputs": [
    {
     "data": {
      "text/plain": [
       "0         Basil\n",
       "1      Odysseus\n",
       "2         Jesse\n",
       "3        Kareem\n",
       "4        Mannix\n",
       "         ...   \n",
       "259     William\n",
       "260       Gavin\n",
       "261    Channing\n",
       "262     Hammett\n",
       "263      Nathan\n",
       "Name: First Name, Length: 264, dtype: object"
      ]
     },
     "execution_count": 588,
     "metadata": {},
     "output_type": "execute_result"
    }
   ],
   "source": [
    "df['First Name']\n"
   ]
  },
  {
   "cell_type": "markdown",
   "metadata": {},
   "source": [
    "# Check for duplicate column names"
   ]
  },
  {
   "cell_type": "code",
   "execution_count": 589,
   "metadata": {},
   "outputs": [
    {
     "data": {
      "text/plain": [
       "array([False, False, False, False, False, False, False, False, False,\n",
       "       False, False])"
      ]
     },
     "execution_count": 589,
     "metadata": {},
     "output_type": "execute_result"
    }
   ],
   "source": [
    "# Check for duplicate column names\n",
    "df.columns.duplicated()"
   ]
  },
  {
   "cell_type": "code",
   "execution_count": 590,
   "metadata": {},
   "outputs": [
    {
     "data": {
      "text/plain": [
       "Index(['first name', 'last name', 'age', 'salary', 'email', 'city', 'country',\n",
       "       'long', 'lat', 'street address0', 'street address1'],\n",
       "      dtype='object')"
      ]
     },
     "execution_count": 590,
     "metadata": {},
     "output_type": "execute_result"
    }
   ],
   "source": [
    "# Making Column Name Lower Case\n",
    "df.columns.str.lower()"
   ]
  },
  {
   "cell_type": "code",
   "execution_count": 591,
   "metadata": {},
   "outputs": [
    {
     "data": {
      "text/plain": [
       "Index(['FIRST NAME', 'LAST NAME', 'AGE', 'SALARY', 'EMAIL', 'CITY', 'COUNTRY',\n",
       "       'LONG', 'LAT', 'STREET ADDRESS0', 'STREET ADDRESS1'],\n",
       "      dtype='object')"
      ]
     },
     "execution_count": 591,
     "metadata": {},
     "output_type": "execute_result"
    }
   ],
   "source": [
    "# Making Column Name Upper Case\n",
    "df.columns.str.upper()"
   ]
  },
  {
   "cell_type": "code",
   "execution_count": 592,
   "metadata": {},
   "outputs": [
    {
     "data": {
      "text/plain": [
       "Index(['First Name', 'Last Name', 'Age', 'Salary', 'Email', 'City', 'Country',\n",
       "       'Long', 'Lat', 'Street Address0', 'Street Address1'],\n",
       "      dtype='object')"
      ]
     },
     "execution_count": 592,
     "metadata": {},
     "output_type": "execute_result"
    }
   ],
   "source": [
    "# Convert Column Name to Title Case\n",
    "df.columns.str.title()"
   ]
  },
  {
   "cell_type": "markdown",
   "metadata": {},
   "source": [
    "# Replacing Empty spaces with underscore"
   ]
  },
  {
   "cell_type": "code",
   "execution_count": 593,
   "metadata": {},
   "outputs": [
    {
     "data": {
      "text/plain": [
       "Index(['First_Name', 'Last_Name', 'Age', 'Salary', 'Email', 'City', 'Country',\n",
       "       'Long', 'Lat', 'Street_Address0', 'Street_Address1'],\n",
       "      dtype='object')"
      ]
     },
     "execution_count": 593,
     "metadata": {},
     "output_type": "execute_result"
    }
   ],
   "source": [
    "# Replacing Empty spaces with underscore\n",
    "df.columns.str.replace(' ','_')"
   ]
  },
  {
   "cell_type": "code",
   "execution_count": 594,
   "metadata": {},
   "outputs": [],
   "source": [
    "# Renaming Column Name"
   ]
  },
  {
   "cell_type": "code",
   "execution_count": 595,
   "metadata": {},
   "outputs": [
    {
     "data": {
      "text/html": [
       "<div>\n",
       "<style scoped>\n",
       "    .dataframe tbody tr th:only-of-type {\n",
       "        vertical-align: middle;\n",
       "    }\n",
       "\n",
       "    .dataframe tbody tr th {\n",
       "        vertical-align: top;\n",
       "    }\n",
       "\n",
       "    .dataframe thead th {\n",
       "        text-align: right;\n",
       "    }\n",
       "</style>\n",
       "<table border=\"1\" class=\"dataframe\">\n",
       "  <thead>\n",
       "    <tr style=\"text-align: right;\">\n",
       "      <th></th>\n",
       "      <th>First Name</th>\n",
       "      <th>Last Name</th>\n",
       "      <th>Date of Birth</th>\n",
       "      <th>Salary</th>\n",
       "      <th>Email</th>\n",
       "      <th>City</th>\n",
       "      <th>Country</th>\n",
       "      <th>Long</th>\n",
       "      <th>Lat</th>\n",
       "      <th>Street Address0</th>\n",
       "      <th>Street Address1</th>\n",
       "    </tr>\n",
       "  </thead>\n",
       "  <tbody>\n",
       "    <tr>\n",
       "      <th>0</th>\n",
       "      <td>Basil</td>\n",
       "      <td>Doris</td>\n",
       "      <td>39</td>\n",
       "      <td>68073.0</td>\n",
       "      <td>bibendum.sed@at.co.uk</td>\n",
       "      <td>High Level</td>\n",
       "      <td>Afghanistan</td>\n",
       "      <td>33.0000</td>\n",
       "      <td>65.0000</td>\n",
       "      <td>P.O. Box 933, 3240 Tincidunt Avenue</td>\n",
       "      <td>8110 Eros Road</td>\n",
       "    </tr>\n",
       "    <tr>\n",
       "      <th>1</th>\n",
       "      <td>Odysseus</td>\n",
       "      <td>Deirdre</td>\n",
       "      <td>60</td>\n",
       "      <td>76432.0</td>\n",
       "      <td>magna.nec@pedemalesuada.ca</td>\n",
       "      <td>Deschambault</td>\n",
       "      <td>Albania</td>\n",
       "      <td>41.1533</td>\n",
       "      <td>20.1683</td>\n",
       "      <td>3475 Consequat, Ave</td>\n",
       "      <td>P.O. Box 545, 5304 Curabitur St.</td>\n",
       "    </tr>\n",
       "    <tr>\n",
       "      <th>2</th>\n",
       "      <td>Jesse</td>\n",
       "      <td>Amanda</td>\n",
       "      <td>45</td>\n",
       "      <td>57757.0</td>\n",
       "      <td>Quisque.imperdiet.erat@ullamcorpereueuismod.ca</td>\n",
       "      <td>Machilipatnam</td>\n",
       "      <td>Algeria</td>\n",
       "      <td>28.0339</td>\n",
       "      <td>1.6596</td>\n",
       "      <td>149-7178 Auctor St.</td>\n",
       "      <td>Ap #758-5240 Elementum Av.</td>\n",
       "    </tr>\n",
       "    <tr>\n",
       "      <th>3</th>\n",
       "      <td>Kareem</td>\n",
       "      <td>Charlotte</td>\n",
       "      <td>69</td>\n",
       "      <td>54158.0</td>\n",
       "      <td>scelerisque@dolorFuscemi.com</td>\n",
       "      <td>Snellegem</td>\n",
       "      <td>Andorra</td>\n",
       "      <td>42.5063</td>\n",
       "      <td>1.5218</td>\n",
       "      <td>Ap #427-5875 Aliquet. Av.</td>\n",
       "      <td>5201 Diam Rd.</td>\n",
       "    </tr>\n",
       "    <tr>\n",
       "      <th>4</th>\n",
       "      <td>Mannix</td>\n",
       "      <td>Isadora</td>\n",
       "      <td>6</td>\n",
       "      <td>56973.0</td>\n",
       "      <td>velit@liberoestcongue.edu</td>\n",
       "      <td>Goes</td>\n",
       "      <td>Angola</td>\n",
       "      <td>-11.2027</td>\n",
       "      <td>17.8739</td>\n",
       "      <td>Ap #426-9992 Dictum Road</td>\n",
       "      <td>581-1742 Nec Rd.</td>\n",
       "    </tr>\n",
       "  </tbody>\n",
       "</table>\n",
       "</div>"
      ],
      "text/plain": [
       "  First Name  Last Name  Date of Birth   Salary  \\\n",
       "0      Basil      Doris             39  68073.0   \n",
       "1   Odysseus    Deirdre             60  76432.0   \n",
       "2      Jesse     Amanda             45  57757.0   \n",
       "3     Kareem  Charlotte             69  54158.0   \n",
       "4     Mannix    Isadora              6  56973.0   \n",
       "\n",
       "                                            Email           City      Country  \\\n",
       "0                           bibendum.sed@at.co.uk     High Level  Afghanistan   \n",
       "1                      magna.nec@pedemalesuada.ca   Deschambault      Albania   \n",
       "2  Quisque.imperdiet.erat@ullamcorpereueuismod.ca  Machilipatnam      Algeria   \n",
       "3                    scelerisque@dolorFuscemi.com      Snellegem      Andorra   \n",
       "4                       velit@liberoestcongue.edu           Goes       Angola   \n",
       "\n",
       "      Long      Lat                      Street Address0  \\\n",
       "0  33.0000  65.0000  P.O. Box 933, 3240 Tincidunt Avenue   \n",
       "1  41.1533  20.1683                  3475 Consequat, Ave   \n",
       "2  28.0339   1.6596                  149-7178 Auctor St.   \n",
       "3  42.5063   1.5218            Ap #427-5875 Aliquet. Av.   \n",
       "4 -11.2027  17.8739             Ap #426-9992 Dictum Road   \n",
       "\n",
       "                    Street Address1  \n",
       "0                    8110 Eros Road  \n",
       "1  P.O. Box 545, 5304 Curabitur St.  \n",
       "2        Ap #758-5240 Elementum Av.  \n",
       "3                     5201 Diam Rd.  \n",
       "4                  581-1742 Nec Rd.  "
      ]
     },
     "execution_count": 595,
     "metadata": {},
     "output_type": "execute_result"
    }
   ],
   "source": [
    "# Renaming Column Name\n",
    "df.rename(columns={'Age':'Date of Birth'}).head()"
   ]
  },
  {
   "cell_type": "code",
   "execution_count": 596,
   "metadata": {},
   "outputs": [],
   "source": [
    "# Renaming Column Name /Inplace\n",
    "df.rename(columns={'Age':'Date of Birth'},inplace=True)"
   ]
  },
  {
   "cell_type": "code",
   "execution_count": 597,
   "metadata": {},
   "outputs": [
    {
     "data": {
      "text/plain": [
       "Index(['First Name', 'Last Name', 'Date of Birth', 'Salary', 'Email', 'City',\n",
       "       'Country', 'Long', 'Lat', 'Street Address0', 'Street Address1'],\n",
       "      dtype='object')"
      ]
     },
     "execution_count": 597,
     "metadata": {},
     "output_type": "execute_result"
    }
   ],
   "source": [
    "df.columns"
   ]
  },
  {
   "cell_type": "code",
   "execution_count": 598,
   "metadata": {},
   "outputs": [
    {
     "data": {
      "text/plain": [
       "11"
      ]
     },
     "execution_count": 598,
     "metadata": {},
     "output_type": "execute_result"
    }
   ],
   "source": [
    "len(df.columns.values)\n"
   ]
  },
  {
   "cell_type": "markdown",
   "metadata": {},
   "source": [
    "# Renaming Column Names using select values"
   ]
  },
  {
   "cell_type": "code",
   "execution_count": 599,
   "metadata": {},
   "outputs": [],
   "source": [
    "# Renaming Column Names using select values\n",
    "df.columns.values[5] = 'CITY'"
   ]
  },
  {
   "cell_type": "code",
   "execution_count": 600,
   "metadata": {},
   "outputs": [
    {
     "data": {
      "text/plain": [
       "Index(['First Name', 'Last Name', 'Date of Birth', 'Salary', 'Email', 'CITY',\n",
       "       'Country', 'Long', 'Lat', 'Street Address0', 'Street Address1'],\n",
       "      dtype='object')"
      ]
     },
     "execution_count": 600,
     "metadata": {},
     "output_type": "execute_result"
    }
   ],
   "source": [
    "df.columns"
   ]
  },
  {
   "cell_type": "markdown",
   "metadata": {},
   "source": [
    "# Selecting All Columns Except One"
   ]
  },
  {
   "cell_type": "code",
   "execution_count": 601,
   "metadata": {},
   "outputs": [
    {
     "data": {
      "text/plain": [
       "Index(['First Name', 'Last Name', 'Date of Birth', 'Salary', 'Email', 'CITY',\n",
       "       'Country', 'Long', 'Lat', 'Street Address0', 'Street Address1'],\n",
       "      dtype='object')"
      ]
     },
     "execution_count": 601,
     "metadata": {},
     "output_type": "execute_result"
    }
   ],
   "source": [
    "# Selecting All Columns Except One\n",
    "df.columns[df.columns != 'SALARY']"
   ]
  },
  {
   "cell_type": "code",
   "execution_count": 602,
   "metadata": {},
   "outputs": [
    {
     "data": {
      "text/plain": [
       "Index(['CITY', 'Country', 'Date of Birth', 'Email', 'First Name', 'Last Name',\n",
       "       'Lat', 'Long', 'Salary', 'Street Address0', 'Street Address1'],\n",
       "      dtype='object')"
      ]
     },
     "execution_count": 602,
     "metadata": {},
     "output_type": "execute_result"
    }
   ],
   "source": [
    "# Select Column Names Except One Using Difference\n",
    "df.columns.difference(['SALARY'])"
   ]
  },
  {
   "cell_type": "markdown",
   "metadata": {},
   "source": [
    "# Select Column Names that Begins with a Word or Character"
   ]
  },
  {
   "cell_type": "code",
   "execution_count": 603,
   "metadata": {},
   "outputs": [
    {
     "data": {
      "text/plain": [
       "Index([], dtype='object')"
      ]
     },
     "execution_count": 603,
     "metadata": {},
     "output_type": "execute_result"
    }
   ],
   "source": [
    "# Select Column Names that Begins with a Word or Character\n",
    "df.filter(like='STREET').columns"
   ]
  },
  {
   "cell_type": "code",
   "execution_count": 604,
   "metadata": {},
   "outputs": [
    {
     "data": {
      "text/plain": [
       "Index([], dtype='object')"
      ]
     },
     "execution_count": 604,
     "metadata": {},
     "output_type": "execute_result"
    }
   ],
   "source": [
    "### Select Column Names that Begins with a Word or Character\n",
    "df.loc[:,df.columns.str.startswith('STREET')].columns"
   ]
  },
  {
   "cell_type": "code",
   "execution_count": 605,
   "metadata": {},
   "outputs": [
    {
     "data": {
      "text/plain": [
       "Index(['First Name', 'Last Name'], dtype='object')"
      ]
     },
     "execution_count": 605,
     "metadata": {},
     "output_type": "execute_result"
    }
   ],
   "source": [
    "### Select Column Names that ENDS with a Word or Character\n",
    "df.loc[:,df.columns.str.endswith('ame')].columns"
   ]
  },
  {
   "cell_type": "code",
   "execution_count": 606,
   "metadata": {},
   "outputs": [
    {
     "data": {
      "text/plain": [
       "Index(['First Name', 'Last Name'], dtype='object')"
      ]
     },
     "execution_count": 606,
     "metadata": {},
     "output_type": "execute_result"
    }
   ],
   "source": [
    "### Select Column Names that ENDS with a Word or Character Using Filter and Regex name$\n",
    "df.filter(regex='ame$',axis=1).columns"
   ]
  },
  {
   "cell_type": "code",
   "execution_count": 607,
   "metadata": {},
   "outputs": [
    {
     "data": {
      "text/plain": [
       "array(['First Name', 'Last Name', 'Date of Birth', 'Salary'], dtype=object)"
      ]
     },
     "execution_count": 607,
     "metadata": {},
     "output_type": "execute_result"
    }
   ],
   "source": [
    "### Select A Group of Column Names\n",
    "df.columns.values[0:4]"
   ]
  },
  {
   "cell_type": "code",
   "execution_count": 608,
   "metadata": {},
   "outputs": [
    {
     "data": {
      "text/plain": [
       "Index(['First Name', 'Last Name', 'Date of Birth', 'Salary'], dtype='object')"
      ]
     },
     "execution_count": 608,
     "metadata": {},
     "output_type": "execute_result"
    }
   ],
   "source": [
    "### Select A Group of Column Names\n",
    "df.columns[0:4]"
   ]
  },
  {
   "cell_type": "code",
   "execution_count": 609,
   "metadata": {},
   "outputs": [
    {
     "data": {
      "text/plain": [
       "(264, 11)"
      ]
     },
     "execution_count": 609,
     "metadata": {},
     "output_type": "execute_result"
    }
   ],
   "source": [
    "df.shape"
   ]
  },
  {
   "cell_type": "code",
   "execution_count": 610,
   "metadata": {},
   "outputs": [
    {
     "data": {
      "text/html": [
       "<div>\n",
       "<style scoped>\n",
       "    .dataframe tbody tr th:only-of-type {\n",
       "        vertical-align: middle;\n",
       "    }\n",
       "\n",
       "    .dataframe tbody tr th {\n",
       "        vertical-align: top;\n",
       "    }\n",
       "\n",
       "    .dataframe thead th {\n",
       "        text-align: right;\n",
       "    }\n",
       "</style>\n",
       "<table border=\"1\" class=\"dataframe\">\n",
       "  <thead>\n",
       "    <tr style=\"text-align: right;\">\n",
       "      <th></th>\n",
       "      <th>First Name</th>\n",
       "      <th>Last Name</th>\n",
       "      <th>Date of Birth</th>\n",
       "      <th>Salary</th>\n",
       "      <th>Email</th>\n",
       "      <th>CITY</th>\n",
       "      <th>Country</th>\n",
       "      <th>Long</th>\n",
       "      <th>Lat</th>\n",
       "      <th>Street Address0</th>\n",
       "      <th>Street Address1</th>\n",
       "    </tr>\n",
       "  </thead>\n",
       "  <tbody>\n",
       "    <tr>\n",
       "      <th>0</th>\n",
       "      <td>Basil</td>\n",
       "      <td>Doris</td>\n",
       "      <td>39</td>\n",
       "      <td>68073.0</td>\n",
       "      <td>bibendum.sed@at.co.uk</td>\n",
       "      <td>High Level</td>\n",
       "      <td>Afghanistan</td>\n",
       "      <td>33.0000</td>\n",
       "      <td>65.0000</td>\n",
       "      <td>P.O. Box 933, 3240 Tincidunt Avenue</td>\n",
       "      <td>8110 Eros Road</td>\n",
       "    </tr>\n",
       "    <tr>\n",
       "      <th>1</th>\n",
       "      <td>Odysseus</td>\n",
       "      <td>Deirdre</td>\n",
       "      <td>60</td>\n",
       "      <td>76432.0</td>\n",
       "      <td>magna.nec@pedemalesuada.ca</td>\n",
       "      <td>Deschambault</td>\n",
       "      <td>Albania</td>\n",
       "      <td>41.1533</td>\n",
       "      <td>20.1683</td>\n",
       "      <td>3475 Consequat, Ave</td>\n",
       "      <td>P.O. Box 545, 5304 Curabitur St.</td>\n",
       "    </tr>\n",
       "    <tr>\n",
       "      <th>2</th>\n",
       "      <td>Jesse</td>\n",
       "      <td>Amanda</td>\n",
       "      <td>45</td>\n",
       "      <td>57757.0</td>\n",
       "      <td>Quisque.imperdiet.erat@ullamcorpereueuismod.ca</td>\n",
       "      <td>Machilipatnam</td>\n",
       "      <td>Algeria</td>\n",
       "      <td>28.0339</td>\n",
       "      <td>1.6596</td>\n",
       "      <td>149-7178 Auctor St.</td>\n",
       "      <td>Ap #758-5240 Elementum Av.</td>\n",
       "    </tr>\n",
       "    <tr>\n",
       "      <th>3</th>\n",
       "      <td>Kareem</td>\n",
       "      <td>Charlotte</td>\n",
       "      <td>69</td>\n",
       "      <td>54158.0</td>\n",
       "      <td>scelerisque@dolorFuscemi.com</td>\n",
       "      <td>Snellegem</td>\n",
       "      <td>Andorra</td>\n",
       "      <td>42.5063</td>\n",
       "      <td>1.5218</td>\n",
       "      <td>Ap #427-5875 Aliquet. Av.</td>\n",
       "      <td>5201 Diam Rd.</td>\n",
       "    </tr>\n",
       "    <tr>\n",
       "      <th>4</th>\n",
       "      <td>Mannix</td>\n",
       "      <td>Isadora</td>\n",
       "      <td>6</td>\n",
       "      <td>56973.0</td>\n",
       "      <td>velit@liberoestcongue.edu</td>\n",
       "      <td>Goes</td>\n",
       "      <td>Angola</td>\n",
       "      <td>-11.2027</td>\n",
       "      <td>17.8739</td>\n",
       "      <td>Ap #426-9992 Dictum Road</td>\n",
       "      <td>581-1742 Nec Rd.</td>\n",
       "    </tr>\n",
       "  </tbody>\n",
       "</table>\n",
       "</div>"
      ],
      "text/plain": [
       "  First Name  Last Name  Date of Birth   Salary  \\\n",
       "0      Basil      Doris             39  68073.0   \n",
       "1   Odysseus    Deirdre             60  76432.0   \n",
       "2      Jesse     Amanda             45  57757.0   \n",
       "3     Kareem  Charlotte             69  54158.0   \n",
       "4     Mannix    Isadora              6  56973.0   \n",
       "\n",
       "                                            Email           CITY      Country  \\\n",
       "0                           bibendum.sed@at.co.uk     High Level  Afghanistan   \n",
       "1                      magna.nec@pedemalesuada.ca   Deschambault      Albania   \n",
       "2  Quisque.imperdiet.erat@ullamcorpereueuismod.ca  Machilipatnam      Algeria   \n",
       "3                    scelerisque@dolorFuscemi.com      Snellegem      Andorra   \n",
       "4                       velit@liberoestcongue.edu           Goes       Angola   \n",
       "\n",
       "      Long      Lat                      Street Address0  \\\n",
       "0  33.0000  65.0000  P.O. Box 933, 3240 Tincidunt Avenue   \n",
       "1  41.1533  20.1683                  3475 Consequat, Ave   \n",
       "2  28.0339   1.6596                  149-7178 Auctor St.   \n",
       "3  42.5063   1.5218            Ap #427-5875 Aliquet. Av.   \n",
       "4 -11.2027  17.8739             Ap #426-9992 Dictum Road   \n",
       "\n",
       "                    Street Address1  \n",
       "0                    8110 Eros Road  \n",
       "1  P.O. Box 545, 5304 Curabitur St.  \n",
       "2        Ap #758-5240 Elementum Av.  \n",
       "3                     5201 Diam Rd.  \n",
       "4                  581-1742 Nec Rd.  "
      ]
     },
     "execution_count": 610,
     "metadata": {},
     "output_type": "execute_result"
    }
   ],
   "source": [
    "df.head()"
   ]
  },
  {
   "cell_type": "code",
   "execution_count": 611,
   "metadata": {},
   "outputs": [
    {
     "data": {
      "text/plain": [
       "Index(['First Name', 'Last Name', 'Date of Birth', 'Salary', 'Email', 'CITY',\n",
       "       'Country', 'Long', 'Lat', 'Street Address0', 'Street Address1'],\n",
       "      dtype='object')"
      ]
     },
     "execution_count": 611,
     "metadata": {},
     "output_type": "execute_result"
    }
   ],
   "source": [
    "df.columns\n"
   ]
  },
  {
   "cell_type": "code",
   "execution_count": 612,
   "metadata": {},
   "outputs": [
    {
     "data": {
      "text/html": [
       "<div>\n",
       "<style scoped>\n",
       "    .dataframe tbody tr th:only-of-type {\n",
       "        vertical-align: middle;\n",
       "    }\n",
       "\n",
       "    .dataframe tbody tr th {\n",
       "        vertical-align: top;\n",
       "    }\n",
       "\n",
       "    .dataframe thead th {\n",
       "        text-align: right;\n",
       "    }\n",
       "</style>\n",
       "<table border=\"1\" class=\"dataframe\">\n",
       "  <thead>\n",
       "    <tr style=\"text-align: right;\">\n",
       "      <th></th>\n",
       "      <th>First Name</th>\n",
       "      <th>Last Name</th>\n",
       "      <th>Date of Birth</th>\n",
       "      <th>Salary</th>\n",
       "      <th>Email</th>\n",
       "      <th>CITY</th>\n",
       "      <th>Country</th>\n",
       "      <th>Long</th>\n",
       "      <th>Lat</th>\n",
       "      <th>variable</th>\n",
       "      <th>value</th>\n",
       "    </tr>\n",
       "  </thead>\n",
       "  <tbody>\n",
       "    <tr>\n",
       "      <th>523</th>\n",
       "      <td>William</td>\n",
       "      <td>Ariana</td>\n",
       "      <td>2</td>\n",
       "      <td>-821888.0238</td>\n",
       "      <td>enim@velitjustonec.net</td>\n",
       "      <td>Korolyov</td>\n",
       "      <td>France</td>\n",
       "      <td>46.885200</td>\n",
       "      <td>-56.315900</td>\n",
       "      <td>Street Address1</td>\n",
       "      <td>Ap #371-8254 Donec Rd.</td>\n",
       "    </tr>\n",
       "    <tr>\n",
       "      <th>524</th>\n",
       "      <td>Gavin</td>\n",
       "      <td>Illiana</td>\n",
       "      <td>7</td>\n",
       "      <td>-829956.3333</td>\n",
       "      <td>dolor.elit.pellentesque@tempusrisusDonec.co.uk</td>\n",
       "      <td>Delft</td>\n",
       "      <td>South Sudan</td>\n",
       "      <td>6.877000</td>\n",
       "      <td>31.307000</td>\n",
       "      <td>Street Address1</td>\n",
       "      <td>680 Magnis St.</td>\n",
       "    </tr>\n",
       "    <tr>\n",
       "      <th>525</th>\n",
       "      <td>Channing</td>\n",
       "      <td>Lucy</td>\n",
       "      <td>89</td>\n",
       "      <td>-838024.6429</td>\n",
       "      <td>odio@tincidunt.co.uk</td>\n",
       "      <td>Pushkino</td>\n",
       "      <td>Western Sahara</td>\n",
       "      <td>24.215500</td>\n",
       "      <td>-12.885800</td>\n",
       "      <td>Street Address1</td>\n",
       "      <td>P.O. Box 759, 1124 Justo Road</td>\n",
       "    </tr>\n",
       "    <tr>\n",
       "      <th>526</th>\n",
       "      <td>Hammett</td>\n",
       "      <td>Reagan</td>\n",
       "      <td>65</td>\n",
       "      <td>-846092.9524</td>\n",
       "      <td>nec.euismod@erosnonenim.com</td>\n",
       "      <td>Fiuminata</td>\n",
       "      <td>Sao Tome and Principe</td>\n",
       "      <td>0.186360</td>\n",
       "      <td>6.613081</td>\n",
       "      <td>Street Address1</td>\n",
       "      <td>7897 Arcu. Rd.</td>\n",
       "    </tr>\n",
       "    <tr>\n",
       "      <th>527</th>\n",
       "      <td>Nathan</td>\n",
       "      <td>Shaeleigh</td>\n",
       "      <td>90</td>\n",
       "      <td>-854161.2619</td>\n",
       "      <td>Nam@amagnaLorem.co.uk</td>\n",
       "      <td>Eastbourne</td>\n",
       "      <td>Yemen</td>\n",
       "      <td>15.552727</td>\n",
       "      <td>48.516388</td>\n",
       "      <td>Street Address1</td>\n",
       "      <td>3011 Non, St.</td>\n",
       "    </tr>\n",
       "  </tbody>\n",
       "</table>\n",
       "</div>"
      ],
      "text/plain": [
       "    First Name  Last Name  Date of Birth       Salary  \\\n",
       "523    William     Ariana              2 -821888.0238   \n",
       "524      Gavin    Illiana              7 -829956.3333   \n",
       "525   Channing       Lucy             89 -838024.6429   \n",
       "526    Hammett     Reagan             65 -846092.9524   \n",
       "527     Nathan  Shaeleigh             90 -854161.2619   \n",
       "\n",
       "                                              Email        CITY  \\\n",
       "523                          enim@velitjustonec.net    Korolyov   \n",
       "524  dolor.elit.pellentesque@tempusrisusDonec.co.uk       Delft   \n",
       "525                            odio@tincidunt.co.uk    Pushkino   \n",
       "526                     nec.euismod@erosnonenim.com   Fiuminata   \n",
       "527                           Nam@amagnaLorem.co.uk  Eastbourne   \n",
       "\n",
       "                   Country       Long        Lat         variable  \\\n",
       "523                 France  46.885200 -56.315900  Street Address1   \n",
       "524            South Sudan   6.877000  31.307000  Street Address1   \n",
       "525         Western Sahara  24.215500 -12.885800  Street Address1   \n",
       "526  Sao Tome and Principe   0.186360   6.613081  Street Address1   \n",
       "527                  Yemen  15.552727  48.516388  Street Address1   \n",
       "\n",
       "                             value  \n",
       "523         Ap #371-8254 Donec Rd.  \n",
       "524                 680 Magnis St.  \n",
       "525  P.O. Box 759, 1124 Justo Road  \n",
       "526                 7897 Arcu. Rd.  \n",
       "527                  3011 Non, St.  "
      ]
     },
     "execution_count": 612,
     "metadata": {},
     "output_type": "execute_result"
    }
   ],
   "source": [
    "df.melt(id_vars = ['First Name', 'Last Name', 'Date of Birth', 'Salary', 'Email', 'CITY','Country', 'Long', 'Lat', ]).tail()"
   ]
  },
  {
   "cell_type": "code",
   "execution_count": 613,
   "metadata": {},
   "outputs": [],
   "source": [
    "df_data1_melted = df.melt(id_vars = ['First Name', 'Last Name', 'Date of Birth', 'Salary', 'Email', 'CITY','Country', 'Long', 'Lat', ])"
   ]
  },
  {
   "cell_type": "code",
   "execution_count": 614,
   "metadata": {},
   "outputs": [
    {
     "data": {
      "text/html": [
       "<div>\n",
       "<style scoped>\n",
       "    .dataframe tbody tr th:only-of-type {\n",
       "        vertical-align: middle;\n",
       "    }\n",
       "\n",
       "    .dataframe tbody tr th {\n",
       "        vertical-align: top;\n",
       "    }\n",
       "\n",
       "    .dataframe thead th {\n",
       "        text-align: right;\n",
       "    }\n",
       "</style>\n",
       "<table border=\"1\" class=\"dataframe\">\n",
       "  <thead>\n",
       "    <tr style=\"text-align: right;\">\n",
       "      <th></th>\n",
       "      <th>First Name</th>\n",
       "      <th>Last Name</th>\n",
       "      <th>Date of Birth</th>\n",
       "      <th>Salary</th>\n",
       "      <th>Email</th>\n",
       "      <th>CITY</th>\n",
       "      <th>Country</th>\n",
       "      <th>Long</th>\n",
       "      <th>Lat</th>\n",
       "      <th>variable</th>\n",
       "      <th>value</th>\n",
       "    </tr>\n",
       "  </thead>\n",
       "  <tbody>\n",
       "    <tr>\n",
       "      <th>0</th>\n",
       "      <td>Basil</td>\n",
       "      <td>Doris</td>\n",
       "      <td>39</td>\n",
       "      <td>68073.0000</td>\n",
       "      <td>bibendum.sed@at.co.uk</td>\n",
       "      <td>High Level</td>\n",
       "      <td>Afghanistan</td>\n",
       "      <td>33.000000</td>\n",
       "      <td>65.000000</td>\n",
       "      <td>Street Address0</td>\n",
       "      <td>P.O. Box 933, 3240 Tincidunt Avenue</td>\n",
       "    </tr>\n",
       "    <tr>\n",
       "      <th>1</th>\n",
       "      <td>Odysseus</td>\n",
       "      <td>Deirdre</td>\n",
       "      <td>60</td>\n",
       "      <td>76432.0000</td>\n",
       "      <td>magna.nec@pedemalesuada.ca</td>\n",
       "      <td>Deschambault</td>\n",
       "      <td>Albania</td>\n",
       "      <td>41.153300</td>\n",
       "      <td>20.168300</td>\n",
       "      <td>Street Address0</td>\n",
       "      <td>3475 Consequat, Ave</td>\n",
       "    </tr>\n",
       "    <tr>\n",
       "      <th>2</th>\n",
       "      <td>Jesse</td>\n",
       "      <td>Amanda</td>\n",
       "      <td>45</td>\n",
       "      <td>57757.0000</td>\n",
       "      <td>Quisque.imperdiet.erat@ullamcorpereueuismod.ca</td>\n",
       "      <td>Machilipatnam</td>\n",
       "      <td>Algeria</td>\n",
       "      <td>28.033900</td>\n",
       "      <td>1.659600</td>\n",
       "      <td>Street Address0</td>\n",
       "      <td>149-7178 Auctor St.</td>\n",
       "    </tr>\n",
       "    <tr>\n",
       "      <th>3</th>\n",
       "      <td>Kareem</td>\n",
       "      <td>Charlotte</td>\n",
       "      <td>69</td>\n",
       "      <td>54158.0000</td>\n",
       "      <td>scelerisque@dolorFuscemi.com</td>\n",
       "      <td>Snellegem</td>\n",
       "      <td>Andorra</td>\n",
       "      <td>42.506300</td>\n",
       "      <td>1.521800</td>\n",
       "      <td>Street Address0</td>\n",
       "      <td>Ap #427-5875 Aliquet. Av.</td>\n",
       "    </tr>\n",
       "    <tr>\n",
       "      <th>4</th>\n",
       "      <td>Mannix</td>\n",
       "      <td>Isadora</td>\n",
       "      <td>6</td>\n",
       "      <td>56973.0000</td>\n",
       "      <td>velit@liberoestcongue.edu</td>\n",
       "      <td>Goes</td>\n",
       "      <td>Angola</td>\n",
       "      <td>-11.202700</td>\n",
       "      <td>17.873900</td>\n",
       "      <td>Street Address0</td>\n",
       "      <td>Ap #426-9992 Dictum Road</td>\n",
       "    </tr>\n",
       "    <tr>\n",
       "      <th>...</th>\n",
       "      <td>...</td>\n",
       "      <td>...</td>\n",
       "      <td>...</td>\n",
       "      <td>...</td>\n",
       "      <td>...</td>\n",
       "      <td>...</td>\n",
       "      <td>...</td>\n",
       "      <td>...</td>\n",
       "      <td>...</td>\n",
       "      <td>...</td>\n",
       "      <td>...</td>\n",
       "    </tr>\n",
       "    <tr>\n",
       "      <th>523</th>\n",
       "      <td>William</td>\n",
       "      <td>Ariana</td>\n",
       "      <td>2</td>\n",
       "      <td>-821888.0238</td>\n",
       "      <td>enim@velitjustonec.net</td>\n",
       "      <td>Korolyov</td>\n",
       "      <td>France</td>\n",
       "      <td>46.885200</td>\n",
       "      <td>-56.315900</td>\n",
       "      <td>Street Address1</td>\n",
       "      <td>Ap #371-8254 Donec Rd.</td>\n",
       "    </tr>\n",
       "    <tr>\n",
       "      <th>524</th>\n",
       "      <td>Gavin</td>\n",
       "      <td>Illiana</td>\n",
       "      <td>7</td>\n",
       "      <td>-829956.3333</td>\n",
       "      <td>dolor.elit.pellentesque@tempusrisusDonec.co.uk</td>\n",
       "      <td>Delft</td>\n",
       "      <td>South Sudan</td>\n",
       "      <td>6.877000</td>\n",
       "      <td>31.307000</td>\n",
       "      <td>Street Address1</td>\n",
       "      <td>680 Magnis St.</td>\n",
       "    </tr>\n",
       "    <tr>\n",
       "      <th>525</th>\n",
       "      <td>Channing</td>\n",
       "      <td>Lucy</td>\n",
       "      <td>89</td>\n",
       "      <td>-838024.6429</td>\n",
       "      <td>odio@tincidunt.co.uk</td>\n",
       "      <td>Pushkino</td>\n",
       "      <td>Western Sahara</td>\n",
       "      <td>24.215500</td>\n",
       "      <td>-12.885800</td>\n",
       "      <td>Street Address1</td>\n",
       "      <td>P.O. Box 759, 1124 Justo Road</td>\n",
       "    </tr>\n",
       "    <tr>\n",
       "      <th>526</th>\n",
       "      <td>Hammett</td>\n",
       "      <td>Reagan</td>\n",
       "      <td>65</td>\n",
       "      <td>-846092.9524</td>\n",
       "      <td>nec.euismod@erosnonenim.com</td>\n",
       "      <td>Fiuminata</td>\n",
       "      <td>Sao Tome and Principe</td>\n",
       "      <td>0.186360</td>\n",
       "      <td>6.613081</td>\n",
       "      <td>Street Address1</td>\n",
       "      <td>7897 Arcu. Rd.</td>\n",
       "    </tr>\n",
       "    <tr>\n",
       "      <th>527</th>\n",
       "      <td>Nathan</td>\n",
       "      <td>Shaeleigh</td>\n",
       "      <td>90</td>\n",
       "      <td>-854161.2619</td>\n",
       "      <td>Nam@amagnaLorem.co.uk</td>\n",
       "      <td>Eastbourne</td>\n",
       "      <td>Yemen</td>\n",
       "      <td>15.552727</td>\n",
       "      <td>48.516388</td>\n",
       "      <td>Street Address1</td>\n",
       "      <td>3011 Non, St.</td>\n",
       "    </tr>\n",
       "  </tbody>\n",
       "</table>\n",
       "<p>528 rows × 11 columns</p>\n",
       "</div>"
      ],
      "text/plain": [
       "    First Name  Last Name  Date of Birth       Salary  \\\n",
       "0        Basil      Doris             39   68073.0000   \n",
       "1     Odysseus    Deirdre             60   76432.0000   \n",
       "2        Jesse     Amanda             45   57757.0000   \n",
       "3       Kareem  Charlotte             69   54158.0000   \n",
       "4       Mannix    Isadora              6   56973.0000   \n",
       "..         ...        ...            ...          ...   \n",
       "523    William     Ariana              2 -821888.0238   \n",
       "524      Gavin    Illiana              7 -829956.3333   \n",
       "525   Channing       Lucy             89 -838024.6429   \n",
       "526    Hammett     Reagan             65 -846092.9524   \n",
       "527     Nathan  Shaeleigh             90 -854161.2619   \n",
       "\n",
       "                                              Email           CITY  \\\n",
       "0                             bibendum.sed@at.co.uk     High Level   \n",
       "1                        magna.nec@pedemalesuada.ca   Deschambault   \n",
       "2    Quisque.imperdiet.erat@ullamcorpereueuismod.ca  Machilipatnam   \n",
       "3                      scelerisque@dolorFuscemi.com      Snellegem   \n",
       "4                         velit@liberoestcongue.edu           Goes   \n",
       "..                                              ...            ...   \n",
       "523                          enim@velitjustonec.net       Korolyov   \n",
       "524  dolor.elit.pellentesque@tempusrisusDonec.co.uk          Delft   \n",
       "525                            odio@tincidunt.co.uk       Pushkino   \n",
       "526                     nec.euismod@erosnonenim.com      Fiuminata   \n",
       "527                           Nam@amagnaLorem.co.uk     Eastbourne   \n",
       "\n",
       "                   Country       Long        Lat         variable  \\\n",
       "0              Afghanistan  33.000000  65.000000  Street Address0   \n",
       "1                  Albania  41.153300  20.168300  Street Address0   \n",
       "2                  Algeria  28.033900   1.659600  Street Address0   \n",
       "3                  Andorra  42.506300   1.521800  Street Address0   \n",
       "4                   Angola -11.202700  17.873900  Street Address0   \n",
       "..                     ...        ...        ...              ...   \n",
       "523                 France  46.885200 -56.315900  Street Address1   \n",
       "524            South Sudan   6.877000  31.307000  Street Address1   \n",
       "525         Western Sahara  24.215500 -12.885800  Street Address1   \n",
       "526  Sao Tome and Principe   0.186360   6.613081  Street Address1   \n",
       "527                  Yemen  15.552727  48.516388  Street Address1   \n",
       "\n",
       "                                   value  \n",
       "0    P.O. Box 933, 3240 Tincidunt Avenue  \n",
       "1                    3475 Consequat, Ave  \n",
       "2                    149-7178 Auctor St.  \n",
       "3              Ap #427-5875 Aliquet. Av.  \n",
       "4               Ap #426-9992 Dictum Road  \n",
       "..                                   ...  \n",
       "523               Ap #371-8254 Donec Rd.  \n",
       "524                       680 Magnis St.  \n",
       "525        P.O. Box 759, 1124 Justo Road  \n",
       "526                       7897 Arcu. Rd.  \n",
       "527                        3011 Non, St.  \n",
       "\n",
       "[528 rows x 11 columns]"
      ]
     },
     "execution_count": 614,
     "metadata": {},
     "output_type": "execute_result"
    }
   ],
   "source": [
    "df_data1_melted"
   ]
  },
  {
   "cell_type": "code",
   "execution_count": 615,
   "metadata": {},
   "outputs": [
    {
     "data": {
      "text/html": [
       "<div>\n",
       "<style scoped>\n",
       "    .dataframe tbody tr th:only-of-type {\n",
       "        vertical-align: middle;\n",
       "    }\n",
       "\n",
       "    .dataframe tbody tr th {\n",
       "        vertical-align: top;\n",
       "    }\n",
       "\n",
       "    .dataframe thead th {\n",
       "        text-align: right;\n",
       "    }\n",
       "</style>\n",
       "<table border=\"1\" class=\"dataframe\">\n",
       "  <thead>\n",
       "    <tr style=\"text-align: right;\">\n",
       "      <th></th>\n",
       "      <th>First Name</th>\n",
       "      <th>Last Name</th>\n",
       "      <th>Date of Birth</th>\n",
       "      <th>Salary</th>\n",
       "      <th>Email</th>\n",
       "      <th>CITY</th>\n",
       "      <th>Country</th>\n",
       "      <th>Long</th>\n",
       "      <th>Lat</th>\n",
       "      <th>Address</th>\n",
       "      <th>PO.Box</th>\n",
       "    </tr>\n",
       "  </thead>\n",
       "  <tbody>\n",
       "    <tr>\n",
       "      <th>0</th>\n",
       "      <td>Basil</td>\n",
       "      <td>Doris</td>\n",
       "      <td>39</td>\n",
       "      <td>68073.0000</td>\n",
       "      <td>bibendum.sed@at.co.uk</td>\n",
       "      <td>High Level</td>\n",
       "      <td>Afghanistan</td>\n",
       "      <td>33.000000</td>\n",
       "      <td>65.000000</td>\n",
       "      <td>Street Address0</td>\n",
       "      <td>P.O. Box 933, 3240 Tincidunt Avenue</td>\n",
       "    </tr>\n",
       "    <tr>\n",
       "      <th>1</th>\n",
       "      <td>Odysseus</td>\n",
       "      <td>Deirdre</td>\n",
       "      <td>60</td>\n",
       "      <td>76432.0000</td>\n",
       "      <td>magna.nec@pedemalesuada.ca</td>\n",
       "      <td>Deschambault</td>\n",
       "      <td>Albania</td>\n",
       "      <td>41.153300</td>\n",
       "      <td>20.168300</td>\n",
       "      <td>Street Address0</td>\n",
       "      <td>3475 Consequat, Ave</td>\n",
       "    </tr>\n",
       "    <tr>\n",
       "      <th>2</th>\n",
       "      <td>Jesse</td>\n",
       "      <td>Amanda</td>\n",
       "      <td>45</td>\n",
       "      <td>57757.0000</td>\n",
       "      <td>Quisque.imperdiet.erat@ullamcorpereueuismod.ca</td>\n",
       "      <td>Machilipatnam</td>\n",
       "      <td>Algeria</td>\n",
       "      <td>28.033900</td>\n",
       "      <td>1.659600</td>\n",
       "      <td>Street Address0</td>\n",
       "      <td>149-7178 Auctor St.</td>\n",
       "    </tr>\n",
       "    <tr>\n",
       "      <th>3</th>\n",
       "      <td>Kareem</td>\n",
       "      <td>Charlotte</td>\n",
       "      <td>69</td>\n",
       "      <td>54158.0000</td>\n",
       "      <td>scelerisque@dolorFuscemi.com</td>\n",
       "      <td>Snellegem</td>\n",
       "      <td>Andorra</td>\n",
       "      <td>42.506300</td>\n",
       "      <td>1.521800</td>\n",
       "      <td>Street Address0</td>\n",
       "      <td>Ap #427-5875 Aliquet. Av.</td>\n",
       "    </tr>\n",
       "    <tr>\n",
       "      <th>4</th>\n",
       "      <td>Mannix</td>\n",
       "      <td>Isadora</td>\n",
       "      <td>6</td>\n",
       "      <td>56973.0000</td>\n",
       "      <td>velit@liberoestcongue.edu</td>\n",
       "      <td>Goes</td>\n",
       "      <td>Angola</td>\n",
       "      <td>-11.202700</td>\n",
       "      <td>17.873900</td>\n",
       "      <td>Street Address0</td>\n",
       "      <td>Ap #426-9992 Dictum Road</td>\n",
       "    </tr>\n",
       "    <tr>\n",
       "      <th>...</th>\n",
       "      <td>...</td>\n",
       "      <td>...</td>\n",
       "      <td>...</td>\n",
       "      <td>...</td>\n",
       "      <td>...</td>\n",
       "      <td>...</td>\n",
       "      <td>...</td>\n",
       "      <td>...</td>\n",
       "      <td>...</td>\n",
       "      <td>...</td>\n",
       "      <td>...</td>\n",
       "    </tr>\n",
       "    <tr>\n",
       "      <th>523</th>\n",
       "      <td>William</td>\n",
       "      <td>Ariana</td>\n",
       "      <td>2</td>\n",
       "      <td>-821888.0238</td>\n",
       "      <td>enim@velitjustonec.net</td>\n",
       "      <td>Korolyov</td>\n",
       "      <td>France</td>\n",
       "      <td>46.885200</td>\n",
       "      <td>-56.315900</td>\n",
       "      <td>Street Address1</td>\n",
       "      <td>Ap #371-8254 Donec Rd.</td>\n",
       "    </tr>\n",
       "    <tr>\n",
       "      <th>524</th>\n",
       "      <td>Gavin</td>\n",
       "      <td>Illiana</td>\n",
       "      <td>7</td>\n",
       "      <td>-829956.3333</td>\n",
       "      <td>dolor.elit.pellentesque@tempusrisusDonec.co.uk</td>\n",
       "      <td>Delft</td>\n",
       "      <td>South Sudan</td>\n",
       "      <td>6.877000</td>\n",
       "      <td>31.307000</td>\n",
       "      <td>Street Address1</td>\n",
       "      <td>680 Magnis St.</td>\n",
       "    </tr>\n",
       "    <tr>\n",
       "      <th>525</th>\n",
       "      <td>Channing</td>\n",
       "      <td>Lucy</td>\n",
       "      <td>89</td>\n",
       "      <td>-838024.6429</td>\n",
       "      <td>odio@tincidunt.co.uk</td>\n",
       "      <td>Pushkino</td>\n",
       "      <td>Western Sahara</td>\n",
       "      <td>24.215500</td>\n",
       "      <td>-12.885800</td>\n",
       "      <td>Street Address1</td>\n",
       "      <td>P.O. Box 759, 1124 Justo Road</td>\n",
       "    </tr>\n",
       "    <tr>\n",
       "      <th>526</th>\n",
       "      <td>Hammett</td>\n",
       "      <td>Reagan</td>\n",
       "      <td>65</td>\n",
       "      <td>-846092.9524</td>\n",
       "      <td>nec.euismod@erosnonenim.com</td>\n",
       "      <td>Fiuminata</td>\n",
       "      <td>Sao Tome and Principe</td>\n",
       "      <td>0.186360</td>\n",
       "      <td>6.613081</td>\n",
       "      <td>Street Address1</td>\n",
       "      <td>7897 Arcu. Rd.</td>\n",
       "    </tr>\n",
       "    <tr>\n",
       "      <th>527</th>\n",
       "      <td>Nathan</td>\n",
       "      <td>Shaeleigh</td>\n",
       "      <td>90</td>\n",
       "      <td>-854161.2619</td>\n",
       "      <td>Nam@amagnaLorem.co.uk</td>\n",
       "      <td>Eastbourne</td>\n",
       "      <td>Yemen</td>\n",
       "      <td>15.552727</td>\n",
       "      <td>48.516388</td>\n",
       "      <td>Street Address1</td>\n",
       "      <td>3011 Non, St.</td>\n",
       "    </tr>\n",
       "  </tbody>\n",
       "</table>\n",
       "<p>528 rows × 11 columns</p>\n",
       "</div>"
      ],
      "text/plain": [
       "    First Name  Last Name  Date of Birth       Salary  \\\n",
       "0        Basil      Doris             39   68073.0000   \n",
       "1     Odysseus    Deirdre             60   76432.0000   \n",
       "2        Jesse     Amanda             45   57757.0000   \n",
       "3       Kareem  Charlotte             69   54158.0000   \n",
       "4       Mannix    Isadora              6   56973.0000   \n",
       "..         ...        ...            ...          ...   \n",
       "523    William     Ariana              2 -821888.0238   \n",
       "524      Gavin    Illiana              7 -829956.3333   \n",
       "525   Channing       Lucy             89 -838024.6429   \n",
       "526    Hammett     Reagan             65 -846092.9524   \n",
       "527     Nathan  Shaeleigh             90 -854161.2619   \n",
       "\n",
       "                                              Email           CITY  \\\n",
       "0                             bibendum.sed@at.co.uk     High Level   \n",
       "1                        magna.nec@pedemalesuada.ca   Deschambault   \n",
       "2    Quisque.imperdiet.erat@ullamcorpereueuismod.ca  Machilipatnam   \n",
       "3                      scelerisque@dolorFuscemi.com      Snellegem   \n",
       "4                         velit@liberoestcongue.edu           Goes   \n",
       "..                                              ...            ...   \n",
       "523                          enim@velitjustonec.net       Korolyov   \n",
       "524  dolor.elit.pellentesque@tempusrisusDonec.co.uk          Delft   \n",
       "525                            odio@tincidunt.co.uk       Pushkino   \n",
       "526                     nec.euismod@erosnonenim.com      Fiuminata   \n",
       "527                           Nam@amagnaLorem.co.uk     Eastbourne   \n",
       "\n",
       "                   Country       Long        Lat          Address  \\\n",
       "0              Afghanistan  33.000000  65.000000  Street Address0   \n",
       "1                  Albania  41.153300  20.168300  Street Address0   \n",
       "2                  Algeria  28.033900   1.659600  Street Address0   \n",
       "3                  Andorra  42.506300   1.521800  Street Address0   \n",
       "4                   Angola -11.202700  17.873900  Street Address0   \n",
       "..                     ...        ...        ...              ...   \n",
       "523                 France  46.885200 -56.315900  Street Address1   \n",
       "524            South Sudan   6.877000  31.307000  Street Address1   \n",
       "525         Western Sahara  24.215500 -12.885800  Street Address1   \n",
       "526  Sao Tome and Principe   0.186360   6.613081  Street Address1   \n",
       "527                  Yemen  15.552727  48.516388  Street Address1   \n",
       "\n",
       "                                  PO.Box  \n",
       "0    P.O. Box 933, 3240 Tincidunt Avenue  \n",
       "1                    3475 Consequat, Ave  \n",
       "2                    149-7178 Auctor St.  \n",
       "3              Ap #427-5875 Aliquet. Av.  \n",
       "4               Ap #426-9992 Dictum Road  \n",
       "..                                   ...  \n",
       "523               Ap #371-8254 Donec Rd.  \n",
       "524                       680 Magnis St.  \n",
       "525        P.O. Box 759, 1124 Justo Road  \n",
       "526                       7897 Arcu. Rd.  \n",
       "527                        3011 Non, St.  \n",
       "\n",
       "[528 rows x 11 columns]"
      ]
     },
     "execution_count": 615,
     "metadata": {},
     "output_type": "execute_result"
    }
   ],
   "source": [
    "# Renaming the last 2 columns.\n",
    "# It is not 100% clean but it gives you the idea.\n",
    "df_data1_melted.rename(columns={\"variable\":\"Address\", \"value\":\"PO.Box\"})"
   ]
  },
  {
   "cell_type": "code",
   "execution_count": 616,
   "metadata": {},
   "outputs": [
    {
     "data": {
      "text/html": [
       "<div>\n",
       "<style scoped>\n",
       "    .dataframe tbody tr th:only-of-type {\n",
       "        vertical-align: middle;\n",
       "    }\n",
       "\n",
       "    .dataframe tbody tr th {\n",
       "        vertical-align: top;\n",
       "    }\n",
       "\n",
       "    .dataframe thead th {\n",
       "        text-align: right;\n",
       "    }\n",
       "</style>\n",
       "<table border=\"1\" class=\"dataframe\">\n",
       "  <thead>\n",
       "    <tr style=\"text-align: right;\">\n",
       "      <th></th>\n",
       "      <th>First Name</th>\n",
       "      <th>Last Name</th>\n",
       "      <th>Date of Birth</th>\n",
       "      <th>Salary</th>\n",
       "      <th>Email</th>\n",
       "      <th>CITY</th>\n",
       "      <th>Country</th>\n",
       "      <th>Long</th>\n",
       "      <th>Lat</th>\n",
       "      <th>variable</th>\n",
       "      <th>value</th>\n",
       "    </tr>\n",
       "  </thead>\n",
       "  <tbody>\n",
       "    <tr>\n",
       "      <th>523</th>\n",
       "      <td>William</td>\n",
       "      <td>Ariana</td>\n",
       "      <td>2</td>\n",
       "      <td>-821888.0238</td>\n",
       "      <td>enim@velitjustonec.net</td>\n",
       "      <td>Korolyov</td>\n",
       "      <td>France</td>\n",
       "      <td>46.885200</td>\n",
       "      <td>-56.315900</td>\n",
       "      <td>Street Address1</td>\n",
       "      <td>Ap #371-8254 Donec Rd.</td>\n",
       "    </tr>\n",
       "    <tr>\n",
       "      <th>524</th>\n",
       "      <td>Gavin</td>\n",
       "      <td>Illiana</td>\n",
       "      <td>7</td>\n",
       "      <td>-829956.3333</td>\n",
       "      <td>dolor.elit.pellentesque@tempusrisusDonec.co.uk</td>\n",
       "      <td>Delft</td>\n",
       "      <td>South Sudan</td>\n",
       "      <td>6.877000</td>\n",
       "      <td>31.307000</td>\n",
       "      <td>Street Address1</td>\n",
       "      <td>680 Magnis St.</td>\n",
       "    </tr>\n",
       "    <tr>\n",
       "      <th>525</th>\n",
       "      <td>Channing</td>\n",
       "      <td>Lucy</td>\n",
       "      <td>89</td>\n",
       "      <td>-838024.6429</td>\n",
       "      <td>odio@tincidunt.co.uk</td>\n",
       "      <td>Pushkino</td>\n",
       "      <td>Western Sahara</td>\n",
       "      <td>24.215500</td>\n",
       "      <td>-12.885800</td>\n",
       "      <td>Street Address1</td>\n",
       "      <td>P.O. Box 759, 1124 Justo Road</td>\n",
       "    </tr>\n",
       "    <tr>\n",
       "      <th>526</th>\n",
       "      <td>Hammett</td>\n",
       "      <td>Reagan</td>\n",
       "      <td>65</td>\n",
       "      <td>-846092.9524</td>\n",
       "      <td>nec.euismod@erosnonenim.com</td>\n",
       "      <td>Fiuminata</td>\n",
       "      <td>Sao Tome and Principe</td>\n",
       "      <td>0.186360</td>\n",
       "      <td>6.613081</td>\n",
       "      <td>Street Address1</td>\n",
       "      <td>7897 Arcu. Rd.</td>\n",
       "    </tr>\n",
       "    <tr>\n",
       "      <th>527</th>\n",
       "      <td>Nathan</td>\n",
       "      <td>Shaeleigh</td>\n",
       "      <td>90</td>\n",
       "      <td>-854161.2619</td>\n",
       "      <td>Nam@amagnaLorem.co.uk</td>\n",
       "      <td>Eastbourne</td>\n",
       "      <td>Yemen</td>\n",
       "      <td>15.552727</td>\n",
       "      <td>48.516388</td>\n",
       "      <td>Street Address1</td>\n",
       "      <td>3011 Non, St.</td>\n",
       "    </tr>\n",
       "  </tbody>\n",
       "</table>\n",
       "</div>"
      ],
      "text/plain": [
       "    First Name  Last Name  Date of Birth       Salary  \\\n",
       "523    William     Ariana              2 -821888.0238   \n",
       "524      Gavin    Illiana              7 -829956.3333   \n",
       "525   Channing       Lucy             89 -838024.6429   \n",
       "526    Hammett     Reagan             65 -846092.9524   \n",
       "527     Nathan  Shaeleigh             90 -854161.2619   \n",
       "\n",
       "                                              Email        CITY  \\\n",
       "523                          enim@velitjustonec.net    Korolyov   \n",
       "524  dolor.elit.pellentesque@tempusrisusDonec.co.uk       Delft   \n",
       "525                            odio@tincidunt.co.uk    Pushkino   \n",
       "526                     nec.euismod@erosnonenim.com   Fiuminata   \n",
       "527                           Nam@amagnaLorem.co.uk  Eastbourne   \n",
       "\n",
       "                   Country       Long        Lat         variable  \\\n",
       "523                 France  46.885200 -56.315900  Street Address1   \n",
       "524            South Sudan   6.877000  31.307000  Street Address1   \n",
       "525         Western Sahara  24.215500 -12.885800  Street Address1   \n",
       "526  Sao Tome and Principe   0.186360   6.613081  Street Address1   \n",
       "527                  Yemen  15.552727  48.516388  Street Address1   \n",
       "\n",
       "                             value  \n",
       "523         Ap #371-8254 Donec Rd.  \n",
       "524                 680 Magnis St.  \n",
       "525  P.O. Box 759, 1124 Justo Road  \n",
       "526                 7897 Arcu. Rd.  \n",
       "527                  3011 Non, St.  "
      ]
     },
     "execution_count": 616,
     "metadata": {},
     "output_type": "execute_result"
    }
   ],
   "source": [
    "df_data1_melted.tail()"
   ]
  },
  {
   "cell_type": "code",
   "execution_count": 617,
   "metadata": {},
   "outputs": [],
   "source": [
    "gpd_df1 = gpd.GeoDataFrame(df_data1_melted, geometry=gpd.points_from_xy(df_data1_melted['Long'], df_data1_melted['Lat']))"
   ]
  },
  {
   "cell_type": "code",
   "execution_count": 618,
   "metadata": {},
   "outputs": [
    {
     "data": {
      "text/plain": [
       "<matplotlib.axes._subplots.AxesSubplot at 0x12f8e5198>"
      ]
     },
     "execution_count": 618,
     "metadata": {},
     "output_type": "execute_result"
    },
    {
     "data": {
      "image/png": "[encoded data removed]",
      "text/plain": [
       "<Figure size 1440x720 with 1 Axes>"
      ]
     },
     "metadata": {
      "needs_background": "light"
     },
     "output_type": "display_data"
    }
   ],
   "source": [
    "gpd_df1.plot(figsize=(20,10))"
   ]
  },
  {
   "cell_type": "code",
   "execution_count": 619,
   "metadata": {},
   "outputs": [
    {
     "data": {
      "text/plain": [
       "(-198.0, 198.00000000000006, -98.6822565, 92.32738650000002)"
      ]
     },
     "execution_count": 619,
     "metadata": {},
     "output_type": "execute_result"
    },
    {
     "data": {
      "image/png": "[encoded data removed]",
      "text/plain": [
       "<Figure size 1440x720 with 1 Axes>"
      ]
     },
     "metadata": {
      "needs_background": "light"
     },
     "output_type": "display_data"
    }
   ],
   "source": [
    "# Display the world map\n",
    "world =gpd.read_file(gpd.datasets.get_path('naturalearth_lowres'))\n",
    "ax = world.plot(figsize=(20,10))\n",
    "ax.axis('off')"
   ]
  },
  {
   "cell_type": "code",
   "execution_count": 620,
   "metadata": {},
   "outputs": [
    {
     "data": {
      "text/plain": [
       "<matplotlib.axes._subplots.AxesSubplot at 0x12f0b64e0>"
      ]
     },
     "execution_count": 620,
     "metadata": {},
     "output_type": "execute_result"
    },
    {
     "data": {
      "image/png": "[encoded data removed]",
      "text/plain": [
       "<Figure size 1440x720 with 1 Axes>"
      ]
     },
     "metadata": {
      "needs_background": "light"
     },
     "output_type": "display_data"
    }
   ],
   "source": [
    "# Would like to debug and fix the overlay but I am running out of time.\n",
    "\n",
    "# Over lap with our data\n",
    "\n",
    "fig,ax = plt.subplots(figsize=(20,10))\n",
    "gpd_df1.plot(cmap ='Purples', ax = ax)\n",
    "world.geometry.boundary.plot(color = None, edgecolor = 'k', linewidth=1, ax =ax)"
   ]
  },
  {
   "cell_type": "code",
   "execution_count": null,
   "metadata": {},
   "outputs": [],
   "source": []
  },
  {
   "cell_type": "code",
   "execution_count": null,
   "metadata": {},
   "outputs": [],
   "source": []
  },
  {
   "cell_type": "code",
   "execution_count": null,
   "metadata": {},
   "outputs": [],
   "source": []
  }
 ],
 "metadata": {
  "kernelspec": {
   "display_name": "Python 3",
   "language": "python",
   "name": "python3"
  },
  "language_info": {
   "codemirror_mode": {
    "name": "ipython",
    "version": 3
   },
   "file_extension": ".py",
   "mimetype": "text/x-python",
   "name": "python",
   "nbconvert_exporter": "python",
   "pygments_lexer": "ipython3",
   "version": "3.6.10"
  }
 },
 "nbformat": 4,
 "nbformat_minor": 4
}
