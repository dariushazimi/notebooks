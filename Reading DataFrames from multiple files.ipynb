{
 "cells": [
  {
   "cell_type": "code",
   "execution_count": 1,
   "metadata": {},
   "outputs": [],
   "source": [
    "import pandas as pd"
   ]
  },
  {
   "cell_type": "code",
   "execution_count": 2,
   "metadata": {},
   "outputs": [
    {
     "name": "stdout",
     "output_type": "stream",
     "text": [
      "     City  Edition      Sport Discipline             Athlete  NOC Gender  \\\n",
      "0  Athens     1896   Aquatics   Swimming       HAJOS, Alfred  HUN    Men   \n",
      "1  Athens     1896   Aquatics   Swimming  MALOKINIS, Ioannis  GRE    Men   \n",
      "2  Athens     1896   Aquatics   Swimming       HAJOS, Alfred  HUN    Men   \n",
      "3  Athens     1896   Aquatics   Swimming       NEUMANN, Paul  AUT    Men   \n",
      "4  Athens     1896  Athletics  Athletics       BURKE, Thomas  USA    Men   \n",
      "\n",
      "                        Event Event_gender Medal  \n",
      "0              100m freestyle            M  Gold  \n",
      "1  100m freestyle for sailors            M  Gold  \n",
      "2             1200m freestyle            M  Gold  \n",
      "3              400m freestyle            M  Gold  \n",
      "4                        100m            M  Gold  \n"
     ]
    }
   ],
   "source": [
    "import pandas as pd\n",
    "\n",
    "# Create the list of file names: filenames\n",
    "filenames = ['./data/Gold.csv', './data/Silver.csv', './data/Bronze.csv']\n",
    "\n",
    "# Create the list of three DataFrames: dataframes\n",
    "dataframes = []\n",
    "for filename in filenames:\n",
    "    dataframes.append(pd.read_csv(filename))\n",
    "\n",
    "# Print top 5 rows of 1st DataFrame in dataframes\n",
    "print(dataframes[0].head())\n"
   ]
  },
  {
   "cell_type": "code",
   "execution_count": 11,
   "metadata": {},
   "outputs": [
    {
     "name": "stdout",
     "output_type": "stream",
     "text": [
      "     City  Edition      Sport Discipline             Athlete  NOC Gender  \\\n",
      "0  Athens     1896   Aquatics   Swimming    HERSCHMANN, Otto  AUT    Men   \n",
      "1  Athens     1896   Aquatics   Swimming  CHASAPIS, Spiridon  GRE    Men   \n",
      "2  Athens     1896   Aquatics   Swimming    ANDREOU, Joannis  GRE    Men   \n",
      "3  Athens     1896   Aquatics   Swimming   PEPANOS, Antonios  GRE    Men   \n",
      "4  Athens     1896  Athletics  Athletics      HOFMANN, Fritz  GER    Men   \n",
      "\n",
      "                        Event Event_gender   Medal  \n",
      "0              100m freestyle            M  Silver  \n",
      "1  100m freestyle for sailors            M  Silver  \n",
      "2             1200m freestyle            M  Silver  \n",
      "3              400m freestyle            M  Silver  \n",
      "4                        100m            M  Silver  \n"
     ]
    },
    {
     "data": {
      "text/html": [
       "<div>\n",
       "<style scoped>\n",
       "    .dataframe tbody tr th:only-of-type {\n",
       "        vertical-align: middle;\n",
       "    }\n",
       "\n",
       "    .dataframe tbody tr th {\n",
       "        vertical-align: top;\n",
       "    }\n",
       "\n",
       "    .dataframe thead th {\n",
       "        text-align: right;\n",
       "    }\n",
       "</style>\n",
       "<table border=\"1\" class=\"dataframe\">\n",
       "  <thead>\n",
       "    <tr style=\"text-align: right;\">\n",
       "      <th></th>\n",
       "      <th>City</th>\n",
       "      <th>Edition</th>\n",
       "      <th>Sport</th>\n",
       "      <th>Discipline</th>\n",
       "      <th>Athlete</th>\n",
       "      <th>NOC</th>\n",
       "      <th>Gender</th>\n",
       "      <th>Event</th>\n",
       "      <th>Event_gender</th>\n",
       "      <th>Medal</th>\n",
       "    </tr>\n",
       "  </thead>\n",
       "  <tbody>\n",
       "    <tr>\n",
       "      <th>0</th>\n",
       "      <td>Athens</td>\n",
       "      <td>1896</td>\n",
       "      <td>Aquatics</td>\n",
       "      <td>Swimming</td>\n",
       "      <td>HERSCHMANN, Otto</td>\n",
       "      <td>AUT</td>\n",
       "      <td>Men</td>\n",
       "      <td>100m freestyle</td>\n",
       "      <td>M</td>\n",
       "      <td>Silver</td>\n",
       "    </tr>\n",
       "    <tr>\n",
       "      <th>1</th>\n",
       "      <td>Athens</td>\n",
       "      <td>1896</td>\n",
       "      <td>Aquatics</td>\n",
       "      <td>Swimming</td>\n",
       "      <td>CHASAPIS, Spiridon</td>\n",
       "      <td>GRE</td>\n",
       "      <td>Men</td>\n",
       "      <td>100m freestyle for sailors</td>\n",
       "      <td>M</td>\n",
       "      <td>Silver</td>\n",
       "    </tr>\n",
       "    <tr>\n",
       "      <th>2</th>\n",
       "      <td>Athens</td>\n",
       "      <td>1896</td>\n",
       "      <td>Aquatics</td>\n",
       "      <td>Swimming</td>\n",
       "      <td>ANDREOU, Joannis</td>\n",
       "      <td>GRE</td>\n",
       "      <td>Men</td>\n",
       "      <td>1200m freestyle</td>\n",
       "      <td>M</td>\n",
       "      <td>Silver</td>\n",
       "    </tr>\n",
       "    <tr>\n",
       "      <th>3</th>\n",
       "      <td>Athens</td>\n",
       "      <td>1896</td>\n",
       "      <td>Aquatics</td>\n",
       "      <td>Swimming</td>\n",
       "      <td>PEPANOS, Antonios</td>\n",
       "      <td>GRE</td>\n",
       "      <td>Men</td>\n",
       "      <td>400m freestyle</td>\n",
       "      <td>M</td>\n",
       "      <td>Silver</td>\n",
       "    </tr>\n",
       "    <tr>\n",
       "      <th>4</th>\n",
       "      <td>Athens</td>\n",
       "      <td>1896</td>\n",
       "      <td>Athletics</td>\n",
       "      <td>Athletics</td>\n",
       "      <td>HOFMANN, Fritz</td>\n",
       "      <td>GER</td>\n",
       "      <td>Men</td>\n",
       "      <td>100m</td>\n",
       "      <td>M</td>\n",
       "      <td>Silver</td>\n",
       "    </tr>\n",
       "  </tbody>\n",
       "</table>\n",
       "</div>"
      ],
      "text/plain": [
       "     City  Edition      Sport Discipline             Athlete  NOC Gender  \\\n",
       "0  Athens     1896   Aquatics   Swimming    HERSCHMANN, Otto  AUT    Men   \n",
       "1  Athens     1896   Aquatics   Swimming  CHASAPIS, Spiridon  GRE    Men   \n",
       "2  Athens     1896   Aquatics   Swimming    ANDREOU, Joannis  GRE    Men   \n",
       "3  Athens     1896   Aquatics   Swimming   PEPANOS, Antonios  GRE    Men   \n",
       "4  Athens     1896  Athletics  Athletics      HOFMANN, Fritz  GER    Men   \n",
       "\n",
       "                        Event Event_gender   Medal  \n",
       "0              100m freestyle            M  Silver  \n",
       "1  100m freestyle for sailors            M  Silver  \n",
       "2             1200m freestyle            M  Silver  \n",
       "3              400m freestyle            M  Silver  \n",
       "4                        100m            M  Silver  "
      ]
     },
     "execution_count": 11,
     "metadata": {},
     "output_type": "execute_result"
    }
   ],
   "source": [
    "print(dataframes[1].head())\n",
    "dataframes[1].head()"
   ]
  },
  {
   "cell_type": "markdown",
   "metadata": {},
   "source": [
    "# Note\n",
    "The plural of index is both indexes and indices. Both are acceptable\n",
    "\n",
    "Lets use the following:\n",
    " - indices: many index labes within index data structures\n",
    " - indexes: many pandas index data structures\n"
   ]
  },
  {
   "cell_type": "markdown",
   "metadata": {},
   "source": [
    "# here is a refrence to another student's repo\n",
    "https://trenton3983.github.io/files/projects/2019-03-23_merging_dataframes_with_pandas/2019-03-23_merging_dataframes_with_pandas.html\n",
    "    "
   ]
  },
  {
   "cell_type": "markdown",
   "metadata": {},
   "source": [
    "# here is an example of reading multiple csv files and reindexing them.\n",
    "names_1981 = pd.read_csv('names1981.csv', header=None, names=['name','gender','count'], index_col=(0,1))\n",
    "names_1881 = pd.read_csv('names1881.csv', header=None, names=['name','gender','count'], index_col=(0,1))"
   ]
  },
  {
   "cell_type": "markdown",
   "metadata": {},
   "source": [
    "Create a new DataFrame common_names by reindexing names_1981 using the index attribute of the DataFrame names_1881 of older names.\n",
    "Print the shape of the new common_names DataFrame. This has been done for you. It should be the same as that of names_1881.\n",
    "Drop the rows of common_names that have null counts using the .dropna() method. These rows correspond to names that fell out of fashion between 1881 & 1981.\n",
    "Print the shape of the reassigned common_names DataFrame. This has been done for you, so hit 'Submit Answer' to see the result!\n",
    "\n",
    "###### Import pandas\n",
    "import pandas as pd\n",
    "\n",
    "###### Reindex names_1981 with index of names_1881: common_names\n",
    "common_names = names_1981.reindex(names_1881.index)\n",
    "\n",
    "###### Print shape of common_names\n",
    "print(common_names.shape)\n",
    "\n",
    "###### Drop rows with null counts: common_names\n",
    "common_names = common_names.dropna()\n",
    "\n",
    "###### Print shape of new common_names\n",
    "print(common_names.shape)"
   ]
  },
  {
   "cell_type": "code",
   "execution_count": null,
   "metadata": {},
   "outputs": [],
   "source": []
  }
 ],
 "metadata": {
  "kernelspec": {
   "display_name": "Python 3",
   "language": "python",
   "name": "python3"
  },
  "language_info": {
   "codemirror_mode": {
    "name": "ipython",
    "version": 3
   },
   "file_extension": ".py",
   "mimetype": "text/x-python",
   "name": "python",
   "nbconvert_exporter": "python",
   "pygments_lexer": "ipython3",
   "version": "3.7.6"
  }
 },
 "nbformat": 4,
 "nbformat_minor": 4
}
