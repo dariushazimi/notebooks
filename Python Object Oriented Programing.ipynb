{
 "cells": [
  {
   "cell_type": "markdown",
   "metadata": {},
   "source": [
    "# Python Object Oriented Programming Part 1 Classes and Instances"
   ]
  },
  {
   "cell_type": "code",
   "execution_count": 1,
   "metadata": {},
   "outputs": [
    {
     "name": "stdout",
     "output_type": "stream",
     "text": [
      "<__main__.Employee object at 0x105514780>\n"
     ]
    }
   ],
   "source": [
    "class Employee():\n",
    "    \n",
    "    def __init__(self, first, last, pay):\n",
    "        self.first = first\n",
    "        self.last = last\n",
    "        self.pay = pay\n",
    "        self.email  = first + '.' + last + '@company.com'\n",
    "        \n",
    "emp_1 = Employee('Dariush', 'Azimi', 70000)\n",
    "\n",
    "print(emp_1)"
   ]
  },
  {
   "cell_type": "code",
   "execution_count": 2,
   "metadata": {},
   "outputs": [
    {
     "name": "stdout",
     "output_type": "stream",
     "text": [
      "Dariush.Azimi@company.com\n"
     ]
    }
   ],
   "source": [
    "print(emp_1.email)"
   ]
  },
  {
   "cell_type": "code",
   "execution_count": 3,
   "metadata": {},
   "outputs": [
    {
     "name": "stdout",
     "output_type": "stream",
     "text": [
      "80000\n"
     ]
    }
   ],
   "source": [
    "emp_2 = Employee('Max', 'Weber', 80000)\n",
    "print(emp_2.pay)"
   ]
  },
  {
   "cell_type": "code",
   "execution_count": 4,
   "metadata": {},
   "outputs": [
    {
     "name": "stdout",
     "output_type": "stream",
     "text": [
      "Dariush Azimi\n"
     ]
    }
   ],
   "source": [
    "print('{} {}'.format(emp_1.first, emp_1.last))"
   ]
  },
  {
   "cell_type": "code",
   "execution_count": 5,
   "metadata": {},
   "outputs": [
    {
     "name": "stdout",
     "output_type": "stream",
     "text": [
      "<bound method EmployeeAdvanced.fullname of <__main__.EmployeeAdvanced object at 0x105243fd0>>\n"
     ]
    }
   ],
   "source": [
    "# now to save time every time we need to print the first and last name, we can turn this in to a \n",
    "# def method\n",
    "class EmployeeAdvanced():\n",
    "    \n",
    "    def __init__(self, first, last, pay):\n",
    "        self.first = first\n",
    "        self.last = last\n",
    "        self.pay = pay\n",
    "        self.email  = first + '.' + last + '@company.com'\n",
    "    \n",
    "    def fullname(self):\n",
    "        return('{} {}'.format(self.first, self.last))\n",
    "    \n",
    "    \n",
    "empAdv_1 = EmployeeAdvanced('Dariush', 'Azimi', 70000)\n",
    "\n",
    "print(empAdv_1.fullname)\n"
   ]
  },
  {
   "cell_type": "code",
   "execution_count": 6,
   "metadata": {},
   "outputs": [
    {
     "name": "stdout",
     "output_type": "stream",
     "text": [
      "Dariush Azimi\n"
     ]
    }
   ],
   "source": [
    "print(empAdv_1.fullname())\n",
    "# Note, we need the () here, since this is a method and not an attribute.\n"
   ]
  },
  {
   "cell_type": "code",
   "execution_count": 7,
   "metadata": {},
   "outputs": [],
   "source": [
    "# Property Decorators - Getters, Setters, Deleters\n"
   ]
  },
  {
   "cell_type": "code",
   "execution_count": 18,
   "metadata": {},
   "outputs": [
    {
     "name": "stdout",
     "output_type": "stream",
     "text": [
      "Ehteram\n",
      "Dariush.Azimi@company.com\n",
      "Ehteram Azimi\n"
     ]
    }
   ],
   "source": [
    "'''\n",
    "Here our email attribute depends on our first and last name\n",
    "When we create our emp_1 instance, it sets our first and last name \n",
    "and sets our email as shown below\n",
    "'''\n",
    "class Employee():\n",
    "    \n",
    "    def __init__(self, first, last):\n",
    "        self.first = first\n",
    "        self.last = last\n",
    "        self.email  = first + '.' + last + '@company.com'\n",
    "    \n",
    "    def fullname(self):\n",
    "        return('{} {}'.format(self.first, self.last))\n",
    "        \n",
    "emp_1 = Employee('Dariush', 'Azimi')\n",
    "\n",
    "emp_1.first = 'Ehteram'\n",
    "\n",
    "print(emp_1.first)\n",
    "print(emp_1.email)\n",
    "print(emp_1.fullname())\n",
    "\n",
    "'''\n",
    "You see from above that emp_1.first will use the first name but the email is still the old email\n",
    "address\n",
    "Lets see how to resolve this issue.\n",
    "\n",
    "We can use property decorator.\n",
    "\n",
    "'''"
   ]
  },
  {
   "cell_type": "code",
   "execution_count": 20,
   "metadata": {},
   "outputs": [
    {
     "name": "stdout",
     "output_type": "stream",
     "text": [
      "Ehteram\n",
      "Ehteram.Azimi@email.com\n",
      "Ehteram Azimi\n"
     ]
    }
   ],
   "source": [
    "# using property decorators\n",
    "class Employee():\n",
    "    \n",
    "    def __init__(self, first, last):\n",
    "        self.first = first\n",
    "        self.last = last\n",
    "    \n",
    "    def email(self):\n",
    "        return('{}.{}@email.com'.format(self.first, self.last))\n",
    "    \n",
    "    def fullname(self):\n",
    "        return('{} {}'.format(self.first, self.last))\n",
    "        \n",
    "emp_1 = Employee('Dariush', 'Azimi')\n",
    "\n",
    "emp_1.first = 'Ehteram'\n",
    "\n",
    "print(emp_1.first)\n",
    "print(emp_1.email())\n",
    "print(emp_1.fullname())\n",
    "\n",
    "# but now we have to go back to our code and change email to email() for it to work. \n",
    "# (lots of work)\n",
    "# see on line 19 above I had to add () to the email for it to work.\n",
    "# our email method is similar to our full name method.\n",
    "\n",
    "# however this will break the code for anyone using the existing code.\n",
    "# to resove this we can add the @property decorator above the method call for email.\n",
    "# and this way we don't have to change our code from email to email()\n",
    "# lets see that below"
   ]
  },
  {
   "cell_type": "code",
   "execution_count": 40,
   "metadata": {},
   "outputs": [
    {
     "name": "stdout",
     "output_type": "stream",
     "text": [
      "Ehteram\n",
      "Ehteram.Azimi@email.com\n",
      "Ehteram Azimi\n"
     ]
    }
   ],
   "source": [
    "class Employee():\n",
    "    \n",
    "    def __init__(self, first, last):\n",
    "        self.first = first\n",
    "        self.last = last\n",
    "    \n",
    "    @property\n",
    "    def email(self):\n",
    "        return('{}.{}@email.com'.format(self.first, self.last))\n",
    "    \n",
    "    def fullname(self):\n",
    "        return('{} {}'.format(self.first, self.last))\n",
    "        \n",
    "emp_1 = Employee('Dariush', 'Azimi')\n",
    "\n",
    "emp_1.first = 'Ehteram'\n",
    "\n",
    "print(emp_1.first)\n",
    "print(emp_1.email)\n",
    "print(emp_1.fullname())\n",
    "\n",
    "\n",
    "# We are defining our email in our class like a method but \n",
    "# we can access it like an attribute.\n",
    "\n",
    "# We can do the same with the fullname() as well. \n",
    "# we have to remove the () from the fullname().\n"
   ]
  },
  {
   "cell_type": "code",
   "execution_count": 57,
   "metadata": {},
   "outputs": [
    {
     "name": "stdout",
     "output_type": "stream",
     "text": [
      "Ehteram\n",
      "Ehteram.Azimi@email.com\n",
      "Ehteram Azimi\n"
     ]
    }
   ],
   "source": [
    "class Employee():\n",
    "    \n",
    "    def __init__(self, first, last):\n",
    "        self.first = first\n",
    "        self.last = last\n",
    "    \n",
    "    @property\n",
    "    def email(self):\n",
    "        return('{}.{}@email.com'.format(self.first, self.last))\n",
    "    \n",
    "    @property\n",
    "    def fullname(self):\n",
    "        return('{} {}'.format(self.first, self.last))\n",
    "        \n",
    "emp_1 = Employee('Dariush', 'Azimi')\n",
    "\n",
    "emp_1.first = 'Ehteram'\n",
    "\n",
    "print(emp_1.first)\n",
    "print(emp_1.email)\n",
    "print(emp_1.fullname)\n",
    "\n"
   ]
  },
  {
   "cell_type": "code",
   "execution_count": 58,
   "metadata": {},
   "outputs": [],
   "source": [
    "# Example of Setter\n",
    "#''' Lets say we wanted to set the full name and automatically figure out the first and last name'''\n",
    "# emp_1.fullname = 'Dariush Azimi'"
   ]
  },
  {
   "cell_type": "code",
   "execution_count": 63,
   "metadata": {},
   "outputs": [
    {
     "ename": "AttributeError",
     "evalue": "can't set attribute",
     "output_type": "error",
     "traceback": [
      "\u001b[0;31m---------------------------------------------------------------------------\u001b[0m",
      "\u001b[0;31mAttributeError\u001b[0m                            Traceback (most recent call last)",
      "\u001b[0;32m<ipython-input-63-7b40c6e2f4ee>\u001b[0m in \u001b[0;36m<module>\u001b[0;34m\u001b[0m\n\u001b[1;32m     14\u001b[0m \u001b[0;34m\u001b[0m\u001b[0m\n\u001b[1;32m     15\u001b[0m \u001b[0memp_1\u001b[0m \u001b[0;34m=\u001b[0m \u001b[0mEmployee\u001b[0m\u001b[0;34m(\u001b[0m\u001b[0;34m'Vida'\u001b[0m\u001b[0;34m,\u001b[0m \u001b[0;34m'Azimi'\u001b[0m\u001b[0;34m)\u001b[0m\u001b[0;34m\u001b[0m\u001b[0;34m\u001b[0m\u001b[0m\n\u001b[0;32m---> 16\u001b[0;31m \u001b[0memp_1\u001b[0m\u001b[0;34m.\u001b[0m\u001b[0mfullname\u001b[0m \u001b[0;34m=\u001b[0m \u001b[0;34m'Dariush Azimi'\u001b[0m\u001b[0;34m\u001b[0m\u001b[0;34m\u001b[0m\u001b[0m\n\u001b[0m\u001b[1;32m     17\u001b[0m \u001b[0;34m\u001b[0m\u001b[0m\n\u001b[1;32m     18\u001b[0m \u001b[0mprint\u001b[0m\u001b[0;34m(\u001b[0m\u001b[0memp_1\u001b[0m\u001b[0;34m.\u001b[0m\u001b[0mfirst\u001b[0m\u001b[0;34m)\u001b[0m\u001b[0;34m\u001b[0m\u001b[0;34m\u001b[0m\u001b[0m\n",
      "\u001b[0;31mAttributeError\u001b[0m: can't set attribute"
     ]
    }
   ],
   "source": [
    "class Employee():\n",
    "    \n",
    "    def __init__(self, first, last):\n",
    "        self.first = first\n",
    "        self.last = last\n",
    "    \n",
    "    @property\n",
    "    def email(self):\n",
    "        return('{}.{}@email.com'.format(self.first, self.last))\n",
    "    \n",
    "    @property\n",
    "    def fullname(self):\n",
    "        return('{} {}'.format(self.first, self.last))\n",
    "        \n",
    "emp_1 = Employee('Vida', 'Azimi')\n",
    "emp_1.fullname = 'Dariush Azimi'\n",
    "\n",
    "print(emp_1.first)\n",
    "print(emp_1.email)\n",
    "print(emp_1.fullname)"
   ]
  },
  {
   "cell_type": "code",
   "execution_count": 62,
   "metadata": {},
   "outputs": [
    {
     "name": "stdout",
     "output_type": "stream",
     "text": [
      "Dariush\n",
      "Dariush.Azimi@email.com\n",
      "Dariush Azimi\n"
     ]
    }
   ],
   "source": [
    "# here we need a setter\n",
    "\n",
    "class Employee():\n",
    "    \n",
    "    def __init__(self, first, last):\n",
    "        self.first = first\n",
    "        self.last = last\n",
    "    \n",
    "    @property\n",
    "    def email(self):\n",
    "        return('{}.{}@email.com'.format(self.first, self.last))\n",
    "    \n",
    "    @property\n",
    "    def fullname(self):\n",
    "        return('{} {}'.format(self.first, self.last))\n",
    "    \n",
    "    @fullname.setter\n",
    "    def fullname(self, name):\n",
    "        first, last = name.split(' ')\n",
    "        self.first = first\n",
    "        self.last = last\n",
    "        \n",
    "        \n",
    "emp_1 = Employee('Vida', 'Azimi')\n",
    "emp_1.fullname = 'Dariush Azimi'\n",
    "\n",
    "print(emp_1.first)\n",
    "print(emp_1.email)\n",
    "print(emp_1.fullname)"
   ]
  },
  {
   "cell_type": "code",
   "execution_count": 64,
   "metadata": {},
   "outputs": [],
   "source": [
    "# Example of Deleter\n",
    "# Lets say everytime we delete an employee, we would like to run some clean up code.\n"
   ]
  },
  {
   "cell_type": "code",
   "execution_count": 66,
   "metadata": {},
   "outputs": [
    {
     "name": "stdout",
     "output_type": "stream",
     "text": [
      "Dariush\n",
      "Dariush.Azimi@email.com\n",
      "Dariush Azimi\n",
      "Deleted the name\n"
     ]
    }
   ],
   "source": [
    "\n",
    "class Employee():\n",
    "    \n",
    "    def __init__(self, first, last):\n",
    "        self.first = first\n",
    "        self.last = last\n",
    "    \n",
    "    @property\n",
    "    def email(self):\n",
    "        return('{}.{}@email.com'.format(self.first, self.last))\n",
    "    \n",
    "    @property\n",
    "    def fullname(self):\n",
    "        return('{} {}'.format(self.first, self.last))\n",
    "    \n",
    "    @fullname.setter\n",
    "    def fullname(self, name):\n",
    "        first, last = name.split(' ')\n",
    "        self.first = first\n",
    "        self.last = last\n",
    "        \n",
    "    \n",
    "    @fullname.deleter\n",
    "    def fullname(self):\n",
    "        print('Deleted the name')\n",
    "        self.first = None\n",
    "        self.last = None\n",
    "                \n",
    "emp_1 = Employee('Vida', 'Azimi')\n",
    "emp_1.fullname = 'Dariush Azimi'\n",
    "\n",
    "print(emp_1.first)\n",
    "print(emp_1.email)\n",
    "print(emp_1.fullname)\n",
    "\n",
    "del emp_1.fullname"
   ]
  },
  {
   "cell_type": "code",
   "execution_count": null,
   "metadata": {},
   "outputs": [],
   "source": []
  }
 ],
 "metadata": {
  "kernelspec": {
   "display_name": "Python 3",
   "language": "python",
   "name": "python3"
  },
  "language_info": {
   "codemirror_mode": {
    "name": "ipython",
    "version": 3
   },
   "file_extension": ".py",
   "mimetype": "text/x-python",
   "name": "python",
   "nbconvert_exporter": "python",
   "pygments_lexer": "ipython3",
   "version": "3.6.10"
  }
 },
 "nbformat": 4,
 "nbformat_minor": 4
}
