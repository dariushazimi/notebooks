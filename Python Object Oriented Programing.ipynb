{
 "cells": [
  {
   "cell_type": "markdown",
   "metadata": {},
   "source": [
    "# Python Object Oriented Programming Part 1 Classes and Instances"
   ]
  },
  {
   "cell_type": "code",
   "execution_count": 1,
   "metadata": {},
   "outputs": [
    {
     "name": "stdout",
     "output_type": "stream",
     "text": [
      "<__main__.Employee object at 0x105514780>\n"
     ]
    }
   ],
   "source": [
    "class Employee():\n",
    "    \n",
    "    def __init__(self, first, last, pay):\n",
    "        self.first = first\n",
    "        self.last = last\n",
    "        self.pay = pay\n",
    "        self.email  = first + '.' + last + '@company.com'\n",
    "        \n",
    "emp_1 = Employee('Dariush', 'Azimi', 70000)\n",
    "\n",
    "print(emp_1)"
   ]
  },
  {
   "cell_type": "code",
   "execution_count": 2,
   "metadata": {},
   "outputs": [
    {
     "name": "stdout",
     "output_type": "stream",
     "text": [
      "Dariush.Azimi@company.com\n"
     ]
    }
   ],
   "source": [
    "print(emp_1.email)"
   ]
  },
  {
   "cell_type": "code",
   "execution_count": 3,
   "metadata": {},
   "outputs": [
    {
     "name": "stdout",
     "output_type": "stream",
     "text": [
      "80000\n"
     ]
    }
   ],
   "source": [
    "emp_2 = Employee('Max', 'Weber', 80000)\n",
    "print(emp_2.pay)"
   ]
  },
  {
   "cell_type": "code",
   "execution_count": 4,
   "metadata": {},
   "outputs": [
    {
     "name": "stdout",
     "output_type": "stream",
     "text": [
      "Dariush Azimi\n"
     ]
    }
   ],
   "source": [
    "print('{} {}'.format(emp_1.first, emp_1.last))"
   ]
  },
  {
   "cell_type": "code",
   "execution_count": 5,
   "metadata": {},
   "outputs": [
    {
     "name": "stdout",
     "output_type": "stream",
     "text": [
      "<bound method EmployeeAdvanced.fullname of <__main__.EmployeeAdvanced object at 0x105243fd0>>\n"
     ]
    }
   ],
   "source": [
    "# now to save time every time we need to print the first and last name, we can turn this in to a \n",
    "# def method\n",
    "class EmployeeAdvanced():\n",
    "    \n",
    "    def __init__(self, first, last, pay):\n",
    "        self.first = first\n",
    "        self.last = last\n",
    "        self.pay = pay\n",
    "        self.email  = first + '.' + last + '@company.com'\n",
    "    \n",
    "    def fullname(self):\n",
    "        return('{} {}'.format(self.first, self.last))\n",
    "    \n",
    "    \n",
    "empAdv_1 = EmployeeAdvanced('Dariush', 'Azimi', 70000)\n",
    "\n",
    "print(empAdv_1.fullname)\n"
   ]
  },
  {
   "cell_type": "code",
   "execution_count": 6,
   "metadata": {},
   "outputs": [
    {
     "name": "stdout",
     "output_type": "stream",
     "text": [
      "Dariush Azimi\n"
     ]
    }
   ],
   "source": [
    "print(empAdv_1.fullname())\n",
    "# Note, we need the () here, since this is a method and not an attribute.\n"
   ]
  },
  {
   "cell_type": "code",
   "execution_count": 7,
   "metadata": {},
   "outputs": [],
   "source": [
    "# Property Decorators - Getters, Setters, Deleters\n"
   ]
  },
  {
   "cell_type": "code",
   "execution_count": 18,
   "metadata": {},
   "outputs": [
    {
     "name": "stdout",
     "output_type": "stream",
     "text": [
      "Ehteram\n",
      "Dariush.Azimi@company.com\n",
      "Ehteram Azimi\n"
     ]
    }
   ],
   "source": [
    "'''\n",
    "Here our email attribute depends on our first and last name\n",
    "When we create our emp_1 instance, it sets our first and last name \n",
    "and sets our email as shown below\n",
    "'''\n",
    "class Employee():\n",
    "    \n",
    "    def __init__(self, first, last):\n",
    "        self.first = first\n",
    "        self.last = last\n",
    "        self.email  = first + '.' + last + '@company.com'\n",
    "    \n",
    "    def fullname(self):\n",
    "        return('{} {}'.format(self.first, self.last))\n",
    "        \n",
    "emp_1 = Employee('Dariush', 'Azimi')\n",
    "\n",
    "emp_1.first = 'Ehteram'\n",
    "\n",
    "print(emp_1.first)\n",
    "print(emp_1.email)\n",
    "print(emp_1.fullname())\n",
    "\n",
    "'''\n",
    "You see from above that emp_1.first will use the first name but the email is still the old email\n",
    "address\n",
    "Lets see how to resolve this issue.\n",
    "\n",
    "We can use property decorator.\n",
    "\n",
    "'''"
   ]
  },
  {
   "cell_type": "code",
   "execution_count": 20,
   "metadata": {},
   "outputs": [
    {
     "name": "stdout",
     "output_type": "stream",
     "text": [
      "Ehteram\n",
      "Ehteram.Azimi@email.com\n",
      "Ehteram Azimi\n"
     ]
    }
   ],
   "source": [
    "# using property decorators\n",
    "class Employee():\n",
    "    \n",
    "    def __init__(self, first, last):\n",
    "        self.first = first\n",
    "        self.last = last\n",
    "    \n",
    "    def email(self):\n",
    "        return('{}.{}@email.com'.format(self.first, self.last))\n",
    "    \n",
    "    def fullname(self):\n",
    "        return('{} {}'.format(self.first, self.last))\n",
    "        \n",
    "emp_1 = Employee('Dariush', 'Azimi')\n",
    "\n",
    "emp_1.first = 'Ehteram'\n",
    "\n",
    "print(emp_1.first)\n",
    "print(emp_1.email())\n",
    "print(emp_1.fullname())\n",
    "\n",
    "# but now we have to go back to our code and change email to email() for it to work. \n",
    "# (lots of work)\n",
    "# see on line 19 above I had to add () to the email for it to work.\n",
    "# our email method is similar to our full name method.\n",
    "\n",
    "# however this will break the code for anyone using the existing code.\n",
    "# to resove this we can add the @property decorator above the method call for email.\n",
    "# and this way we don't have to change our code from email to email()\n",
    "# lets see that below"
   ]
  },
  {
   "cell_type": "code",
   "execution_count": 22,
   "metadata": {},
   "outputs": [
    {
     "name": "stdout",
     "output_type": "stream",
     "text": [
      "Ehteram\n",
      "Ehteram.Azimi@email.com\n",
      "Ehteram Azimi\n"
     ]
    },
    {
     "data": {
      "text/plain": [
       "' \\nSo we are defining our email in our class like a method but we can \\naccess it like a propety.\\n\\n'"
      ]
     },
     "execution_count": 22,
     "metadata": {},
     "output_type": "execute_result"
    }
   ],
   "source": [
    "class Employee():\n",
    "    \n",
    "    def __init__(self, first, last):\n",
    "        self.first = first\n",
    "        self.last = last\n",
    "    \n",
    "    @property\n",
    "    def email(self):\n",
    "        return('{}.{}@email.com'.format(self.first, self.last))\n",
    "    \n",
    "    def fullname(self):\n",
    "        return('{} {}'.format(self.first, self.last))\n",
    "        \n",
    "emp_1 = Employee('Dariush', 'Azimi')\n",
    "\n",
    "emp_1.first = 'Ehteram'\n",
    "\n",
    "print(emp_1.first)\n",
    "print(emp_1.email)\n",
    "print(emp_1.fullname())\n",
    "\n",
    "''' \n",
    "So we are defining our email in our class like a method but we can \n",
    "access it like a propety.\n",
    "\n",
    "'''"
   ]
  },
  {
   "cell_type": "code",
   "execution_count": null,
   "metadata": {},
   "outputs": [],
   "source": []
  }
 ],
 "metadata": {
  "kernelspec": {
   "display_name": "Python 3",
   "language": "python",
   "name": "python3"
  },
  "language_info": {
   "codemirror_mode": {
    "name": "ipython",
    "version": 3
   },
   "file_extension": ".py",
   "mimetype": "text/x-python",
   "name": "python",
   "nbconvert_exporter": "python",
   "pygments_lexer": "ipython3",
   "version": "3.6.10"
  }
 },
 "nbformat": 4,
 "nbformat_minor": 4
}
